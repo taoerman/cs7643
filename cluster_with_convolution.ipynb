{
 "cells": [
  {
   "cell_type": "code",
   "execution_count": 1,
   "id": "05f84234",
   "metadata": {},
   "outputs": [],
   "source": [
    "from sklearn.metrics import f1_score\n",
    "import numpy as np\n",
    "import torch\n",
    "import torch.nn as nn\n",
    "import torch.optim as optim\n",
    "import torch.nn.functional as F\n",
    "from sklearn.cluster import KMeans\n",
    "\n",
    "from torch.utils.data import TensorDataset, DataLoader, Dataset"
   ]
  },
  {
   "cell_type": "code",
   "execution_count": 2,
   "id": "10278d01",
   "metadata": {},
   "outputs": [],
   "source": [
    "test_data = np.load('dataset/test-release.npy', allow_pickle=True).item()\n",
    "train_data = np.load('dataset/train_split.npy', allow_pickle=True).item()\n",
    "val_data = np.load('dataset/val_split.npy', allow_pickle=True).item()"
   ]
  },
  {
   "cell_type": "code",
   "execution_count": 3,
   "id": "b6254640",
   "metadata": {},
   "outputs": [
    {
     "data": {
      "text/plain": [
       "(19492, 2, 2, 7)"
      ]
     },
     "execution_count": 3,
     "metadata": {},
     "output_type": "execute_result"
    }
   ],
   "source": [
    "test_data['sequences']['3c8a57ba51']['keypoints'].shape"
   ]
  },
  {
   "cell_type": "code",
   "execution_count": 4,
   "id": "4b9ce2d6",
   "metadata": {},
   "outputs": [
    {
     "data": {
      "text/plain": [
       "0"
      ]
     },
     "execution_count": 4,
     "metadata": {},
     "output_type": "execute_result"
    }
   ],
   "source": [
    "test_data['sequences']['3c8a57ba51']['annotator_id']"
   ]
  },
  {
   "cell_type": "code",
   "execution_count": null,
   "id": "cbbd1017",
   "metadata": {},
   "outputs": [],
   "source": [
    "# train data processing\n",
    "train_cluster_features = []\n",
    "\n",
    "for sequence in train_data['sequences'].values():\n",
    "    keypoints = sequence['keypoints']\n",
    "    annotations = sequence['annotations']\n",
    "\n",
    "    num_frames = keypoints.shape[0]\n",
    "    features_flat = keypoints.reshape(num_frames, -1)\n",
    "\n",
    "    train_cluster_features.append(features_flat)\n",
    "\n",
    "train_cluster_features = np.concatenate(train_cluster_features, axis=0)\n",
    "\n",
    "\n",
    "print(train_cluster_features.shape)"
   ]
  },
  {
   "cell_type": "code",
   "execution_count": null,
   "id": "bb680c15",
   "metadata": {},
   "outputs": [],
   "source": [
    "# test data processing\n",
    "test_cluster_features = []\n",
    "\n",
    "for sequence in test_data['sequences'].values():\n",
    "    keypoints = sequence['keypoints']\n",
    "\n",
    "    num_frames = keypoints.shape[0]\n",
    "    features_flat = keypoints.reshape(num_frames, -1)\n",
    "\n",
    "    test_cluster_features.append(features_flat)\n",
    "\n",
    "test_cluster_features = np.concatenate(test_cluster_features, axis=0)\n",
    "\n",
    "print(test_cluster_features.shape)"
   ]
  },
  {
   "cell_type": "code",
   "execution_count": null,
   "id": "97c8dbfc",
   "metadata": {},
   "outputs": [],
   "source": [
    "# combine train and val data\n",
    "combined_features = np.concatenate([train_cluster_features, test_cluster_features], axis=0)\n",
    "print(combined_features.shape)"
   ]
  },
  {
   "cell_type": "code",
   "execution_count": null,
   "id": "600cbab6",
   "metadata": {},
   "outputs": [],
   "source": [
    "# cluster the combined features into 20 clusters\n",
    "n_clusters = 20\n",
    "kmeans = KMeans(n_clusters=n_clusters, random_state=42)\n",
    "cluster_labels = kmeans.fit_predict(combined_features)\n",
    "\n",
    "print(cluster_labels.shape)\n",
    "np.save('./dataset/cluster_labels.npy', cluster_labels)"
   ]
  },
  {
   "cell_type": "code",
   "execution_count": 9,
   "id": "5280fdeb",
   "metadata": {},
   "outputs": [
    {
     "name": "stdout",
     "output_type": "stream",
     "text": [
      "(436332, 28, 199)\n",
      "(436332,)\n"
     ]
    }
   ],
   "source": [
    "# train data processing\n",
    "# train data processing\n",
    "train_features = []\n",
    "train_labels = []\n",
    "window_size = 99\n",
    "\n",
    "for sequence in train_data['sequences'].values():\n",
    "    keypoints = sequence['keypoints']\n",
    "    annotations = sequence['annotations']\n",
    "\n",
    "    keypoints = np.concatenate((np.zeros((window_size, 2, 2, 7)), keypoints, np.zeros((window_size, 2, 2, 7))), axis=0)\n",
    "    for i in range(window_size, keypoints.shape[0] - window_size):\n",
    "        window_after = keypoints[i+1:i+window_size+1] \n",
    "        window_after_flat = window_after.reshape(window_size, -1)\n",
    "        \n",
    "        window_before = keypoints[i-window_size:i]\n",
    "        window_before_flat = window_before.reshape(window_size, -1)\n",
    "        \n",
    "        features = np.concatenate((window_before_flat, keypoints[i].reshape(1, -1), window_after_flat), axis=0)\n",
    "        train_features.append(features)\n",
    "        train_labels.append(annotations[i - window_size])\n",
    "\n",
    "train_features = np.array(train_features).transpose((0, 2, 1))  # Transpose to match the expected input shape\n",
    "train_labels = np.array(train_labels)\n",
    "\n",
    "print(train_features.shape)\n",
    "print(train_labels.shape)"
   ]
  },
  {
   "cell_type": "code",
   "execution_count": 10,
   "id": "6afa6ae7",
   "metadata": {},
   "outputs": [
    {
     "name": "stdout",
     "output_type": "stream",
     "text": [
      "(71406, 28, 199)\n",
      "(71406,)\n"
     ]
    }
   ],
   "source": [
    "# validation data processing\n",
    "val_features = []\n",
    "val_labels = []\n",
    "window_size = 99\n",
    "\n",
    "for sequence in val_data['sequences'].values():\n",
    "    keypoints = sequence['keypoints']\n",
    "    annotations = sequence['annotations']\n",
    "\n",
    "    keypoints = np.concatenate((np.zeros((window_size, 2, 2, 7)), keypoints, np.zeros((window_size, 2, 2, 7))), axis=0)\n",
    "    for i in range(window_size, keypoints.shape[0] - window_size):\n",
    "        window_after = keypoints[i+1:i+window_size+1] \n",
    "        window_after_flat = window_after.reshape(window_size, -1)\n",
    "        \n",
    "        window_before = keypoints[i-window_size:i]\n",
    "        window_before_flat = window_before.reshape(window_size, -1)\n",
    "        \n",
    "        features = np.concatenate((window_before_flat, keypoints[i].reshape(1, -1), window_after_flat), axis=0)\n",
    "        val_features.append(features)\n",
    "        val_labels.append(annotations[i - window_size])\n",
    "\n",
    "val_features = np.array(val_features).transpose((0, 2, 1))  \n",
    "val_labels = np.array(val_labels)\n",
    "\n",
    "\n",
    "print(val_features.shape)\n",
    "print(val_labels.shape)"
   ]
  },
  {
   "cell_type": "code",
   "execution_count": 11,
   "id": "29100d84",
   "metadata": {},
   "outputs": [],
   "source": [
    "class ClusterLabeledDataset(Dataset):\n",
    "    def __init__(self, data, labels, num_frames):\n",
    "        super(ClusterLabeledDataset).__init__()\n",
    "        self.data = data\n",
    "        self.num_frames = num_frames\n",
    "        self.lengths = np.cumsum(list(map(len, data)))\n",
    "        self.labels = [\n",
    "            labels[self.lengths[i - 1] if i > 0 else 0: self.lengths[i]]\n",
    "            for i in range(len(self.lengths))\n",
    "        ]\n",
    "\n",
    "    def __len__(self):\n",
    "        return self.lengths[-1]\n",
    "\n",
    "    def __getitem__(self, index):\n",
    "        seq_index = self._find_seq_index(index)\n",
    "        video = self.data[seq_index]\n",
    "        frame_index = index if seq_index == 0 else index - self.lengths[seq_index - 1]\n",
    "        frame = video[[frame_index]]\n",
    "        window_size = (self.num_frames - 1) // 2\n",
    "        if frame_index >= window_size:\n",
    "            window_before = video[frame_index - window_size: frame_index]\n",
    "        else:\n",
    "            pad = np.zeros((window_size - frame_index, frame.shape[1]))\n",
    "            window_before = np.concatenate((pad, video[0: frame_index]), axis=0)\n",
    "        if frame_index + window_size < len(video):\n",
    "            window_after = video[frame_index + 1: frame_index + window_size + 1]\n",
    "        else:\n",
    "            pad = np.zeros((window_size - (len(video) - 1 - frame_index), frame.shape[1]))\n",
    "            window_after = np.concatenate((video[frame_index + 1:], pad), axis=0)\n",
    "        data = np.concatenate((window_before, frame, window_after), axis=0)\n",
    "        label = self.labels[seq_index][frame_index]\n",
    "        return torch.from_numpy(data).permute(1, 0), torch.tensor(label)\n",
    "\n",
    "    def _find_seq_index(self, index):\n",
    "        start, end = 0, len(self.lengths) - 1\n",
    "        while start + 1 < end:\n",
    "            mid = (start + end) // 2\n",
    "            if self.lengths[mid] <= index:\n",
    "                start = mid\n",
    "            else:\n",
    "                end = mid\n",
    "        if self.lengths[start] > index:\n",
    "            return start\n",
    "        return end"
   ]
  },
  {
   "cell_type": "code",
   "execution_count": 12,
   "id": "a560db94",
   "metadata": {},
   "outputs": [],
   "source": [
    "combined_labels = np.load('./dataset/cluster_labels.npy')"
   ]
  },
  {
   "cell_type": "code",
   "execution_count": 13,
   "id": "276d55e0",
   "metadata": {},
   "outputs": [],
   "source": [
    "cluster_dataset = ClusterLabeledDataset(\n",
    "    (\n",
    "        [seq['keypoints'].reshape(-1, 28) for seq in train_data['sequences'].values()] +\n",
    "        [seq['keypoints'].reshape(-1, 28) for seq in test_data['sequences'].values()]\n",
    "    ),\n",
    "    combined_labels,\n",
    "    199\n",
    ")\n"
   ]
  },
  {
   "cell_type": "code",
   "execution_count": 14,
   "id": "8e28a118",
   "metadata": {},
   "outputs": [],
   "source": [
    "\n",
    "class BaseModel(nn.Module):\n",
    "    def __init__(self, input_dim):\n",
    "        super(BaseModel, self).__init__()\n",
    "        self.batch_norm1 = nn.BatchNorm1d(input_dim)\n",
    "\n",
    "        self.conv1 = nn.Conv1d(input_dim, 512, kernel_size=5, padding=2)\n",
    "        self.batch_norm2 = nn.BatchNorm1d(512)\n",
    "        self.relu1 = nn.ReLU()\n",
    "        self.dropout1 = nn.Dropout(0.5)\n",
    "        self.maxpool1 = nn.MaxPool1d(kernel_size=2, stride=2)\n",
    "\n",
    "        self.conv2 = nn.Conv1d(512, 256, kernel_size=5, padding=2)\n",
    "        self.batch_norm3 = nn.BatchNorm1d(256)\n",
    "        self.relu2 = nn.ReLU()\n",
    "        self.dropout2 = nn.Dropout(0.5)\n",
    "        self.maxpool2 = nn.MaxPool1d(kernel_size=2, stride=2)\n",
    "\n",
    "        self.fc = nn.Linear(256, 4)\n",
    "        self.fc_cluster = nn.Linear(256, 20)\n",
    "\n",
    "    def forward(self, x, is_cluster=False):\n",
    "        x = self.batch_norm1(x)\n",
    "        x = self.conv1(x)\n",
    "        x = self.batch_norm2(x)\n",
    "        x = self.relu1(x)\n",
    "        x = self.dropout1(x)\n",
    "        x = self.maxpool1(x)\n",
    "        x = self.conv2(x)\n",
    "        x = self.batch_norm3(x)\n",
    "        x = self.relu2(x)\n",
    "        x = self.dropout2(x)\n",
    "        x = self.maxpool2(x)\n",
    "        x = torch.mean(x, dim=2)\n",
    "        x = x.squeeze(-1)\n",
    "        if is_cluster:\n",
    "            x = self.fc_cluster(x)\n",
    "        else:\n",
    "            x = self.fc(x)       \n",
    "        return x"
   ]
  },
  {
   "cell_type": "code",
   "execution_count": 15,
   "id": "0c069938",
   "metadata": {},
   "outputs": [],
   "source": [
    "def validation(model, val_features, val_labels, device='cuda' if torch.cuda.is_available() else 'mps'):\n",
    "    X = torch.tensor(val_features, dtype=torch.float32)\n",
    "    y = torch.tensor(val_labels, dtype=torch.long)\n",
    "    \n",
    "    dataset = TensorDataset(X, y)\n",
    "    dataloader = DataLoader(dataset, batch_size=256, shuffle=True)\n",
    "    \n",
    "    model = model.to(device)\n",
    "    model.eval()\n",
    "    \n",
    "    total_predictions = 0\n",
    "    correct_predictions = 0\n",
    "    labels = []\n",
    "    total_predicted = []\n",
    "    with torch.no_grad():\n",
    "        for batch_X, batch_y in dataloader:\n",
    "            batch_X, batch_y = batch_X.to(device), batch_y.to(device)\n",
    "            outputs = model(batch_X)\n",
    "            \n",
    "            _, predicted = torch.max(outputs.data, 1)\n",
    "            total_predictions += batch_y.size(0)\n",
    "            correct_predictions += (predicted == batch_y).sum().item()\n",
    "            labels = labels + batch_y.tolist()\n",
    "            total_predicted = total_predicted + predicted.tolist()\n",
    "    F1 = f1_score(labels, total_predicted, average='macro', labels=[0, 1, 2])\n",
    "    print(f\"Val-F1: {F1:.4f}\")\n",
    "    return F1"
   ]
  },
  {
   "cell_type": "code",
   "execution_count": null,
   "id": "26ad4e1c",
   "metadata": {},
   "outputs": [
    {
     "ename": "",
     "evalue": "",
     "output_type": "error",
     "traceback": [
      "\u001b[1;31mThe Kernel crashed while executing code in the current cell or a previous cell. \n",
      "\u001b[1;31mPlease review the code in the cell(s) to identify a possible cause of the failure. \n",
      "\u001b[1;31mClick <a href='https://aka.ms/vscodeJupyterKernelCrash'>here</a> for more info. \n",
      "\u001b[1;31mView Jupyter <a href='command:jupyter.viewOutput'>log</a> for further details."
     ]
    }
   ],
   "source": [
    "input_dim = 28\n",
    "device = 'cuda' if torch.cuda.is_available() else 'mps'\n",
    "batch_size = 32\n",
    "epochs = 30\n",
    "lr = 0.001\n",
    "\n",
    "model = BaseModel(input_dim=input_dim)\n",
    "model = model.to(device)\n",
    "\n",
    "train_features = torch.tensor(train_features).to(device, dtype=torch.float32)\n",
    "train_labels = torch.tensor(train_labels).to(device, dtype=torch.long)\n",
    "\n",
    "train_dataset = TensorDataset(train_features, train_labels)\n",
    "train_dataloader = DataLoader(train_dataset, batch_size=batch_size, shuffle=True)\n",
    "cluster_dataloader = DataLoader(cluster_dataset, batch_size=batch_size, shuffle=True)\n",
    "\n",
    "\n",
    "optimizer = torch.optim.Adam(model.parameters(), lr=lr)\n",
    "criterion = torch.nn.CrossEntropyLoss()\n",
    "\n",
    "for epoch in range(epochs):\n",
    "    model.train()\n",
    "    total_loss = 0\n",
    "    total_predictions = 0\n",
    "    correct_predictions = 0\n",
    "    labels = []\n",
    "    total_predicted = []\n",
    "    for batch_X, batch_y in train_dataloader:\n",
    "        batch_X, batch_y = batch_X.to(device), batch_y.to(device)\n",
    "        optimizer.zero_grad()\n",
    "        outputs = model(batch_X, is_cluster=False)\n",
    "        loss = criterion(outputs, batch_y)\n",
    "        loss.backward()\n",
    "        optimizer.step()\n",
    "\n",
    "        _, predicted = torch.max(outputs.data, 1)\n",
    "        total_predictions += batch_y.size(0)\n",
    "        correct_predictions += (predicted == batch_y).sum().item()\n",
    "        total_loss += loss.item() * batch_X.size(0)\n",
    "        labels = labels + batch_y.tolist()\n",
    "        total_predicted = total_predicted + predicted.tolist()\n",
    "\n",
    "    for batch_X, batch_y in cluster_dataloader:\n",
    "        batch_X, batch_y = batch_X.to(device, dtype=torch.float32), batch_y.to(device, dtype=torch.long)\n",
    "        optimizer.zero_grad()\n",
    "        outputs = model(batch_X, is_cluster=True)\n",
    "        loss = criterion(outputs, batch_y)\n",
    "        loss.backward()\n",
    "        optimizer.step()\n",
    "\n",
    "    avg_loss = total_loss / len(train_dataset)\n",
    "    accuracy = 100 * correct_predictions / total_predictions\n",
    "    F1 = f1_score(labels, total_predicted, average='macro', labels=[0, 1, 2])\n",
    "    print(f\"Epoch {epoch+1}/{epochs} - Train-Loss: {avg_loss:.4f} - Train-Accuracy: {accuracy:.2f}% - Train-F1: {F1:.4f}\")\n",
    "    validation(model, val_features, val_labels, device='cuda' if torch.cuda.is_available() else 'mps')\n",
    "print(\"Training complete.\")"
   ]
  },
  {
   "cell_type": "code",
   "execution_count": null,
   "id": "e24df691",
   "metadata": {},
   "outputs": [],
   "source": []
  }
 ],
 "metadata": {
  "kernelspec": {
   "display_name": "pytorch_default",
   "language": "python",
   "name": "python3"
  },
  "language_info": {
   "codemirror_mode": {
    "name": "ipython",
    "version": 3
   },
   "file_extension": ".py",
   "mimetype": "text/x-python",
   "name": "python",
   "nbconvert_exporter": "python",
   "pygments_lexer": "ipython3",
   "version": "3.13.3"
  }
 },
 "nbformat": 4,
 "nbformat_minor": 5
}
