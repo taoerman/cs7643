{
 "cells": [
  {
   "cell_type": "code",
   "execution_count": null,
   "id": "a22d83a3",
   "metadata": {},
   "outputs": [],
   "source": [
    "from sklearn.metrics import f1_score\n",
    "import numpy as np\n",
    "import torch\n",
    "import torch.nn as nn\n",
    "import torch.optim as optim\n",
    "import torch.nn.functional as F\n",
    "from torch.utils.data import TensorDataset, DataLoader"
   ]
  },
  {
   "cell_type": "code",
   "execution_count": 2,
   "id": "f5bf54f5",
   "metadata": {},
   "outputs": [],
   "source": [
    "train_data = np.load('dataset/train_split.npy', allow_pickle=True).item()\n",
    "val_data = np.load('dataset/val_split.npy', allow_pickle=True).item()"
   ]
  },
  {
   "cell_type": "code",
   "execution_count": 3,
   "id": "d583ec9a",
   "metadata": {},
   "outputs": [
    {
     "data": {
      "text/plain": [
       "1283"
      ]
     },
     "execution_count": 3,
     "metadata": {},
     "output_type": "execute_result"
    }
   ],
   "source": [
    "train_data['sequences']['283a94cc8e']['keypoints'].shape[0]"
   ]
  },
  {
   "cell_type": "code",
   "execution_count": 4,
   "id": "1439f697",
   "metadata": {},
   "outputs": [
    {
     "name": "stdout",
     "output_type": "stream",
     "text": [
      "(426395, 140)\n",
      "(426395,)\n"
     ]
    }
   ],
   "source": [
    "# train data processing\n",
    "train_features = []\n",
    "train_labels = []\n",
    "window_size = 5\n",
    "\n",
    "for sequence in train_data['sequences'].values():\n",
    "    keypoints = sequence['keypoints']\n",
    "    annotations = sequence['annotations']\n",
    "\n",
    "    num_frames = keypoints.shape[0]\n",
    "    for i in range(num_frames - window_size + 1):\n",
    "        window = keypoints[i:i+window_size] \n",
    "        window_flat = window.reshape(-1)     \n",
    "        label = annotations[i + window_size - 1]  \n",
    "\n",
    "        train_features.append(window_flat)\n",
    "        train_labels.append(label)\n",
    "\n",
    "train_features = np.array(train_features)\n",
    "train_labels = np.array(train_labels)\n",
    "\n",
    "\n",
    "print(train_features.shape)\n",
    "print(train_labels.shape)\n"
   ]
  },
  {
   "cell_type": "code",
   "execution_count": 5,
   "id": "52ad0794",
   "metadata": {},
   "outputs": [
    {
     "name": "stdout",
     "output_type": "stream",
     "text": [
      "(81063, 140)\n",
      "(81063,)\n"
     ]
    }
   ],
   "source": [
    "# validation data processing\n",
    "val_features = []\n",
    "val_labels = []\n",
    "window_size = 5\n",
    "\n",
    "for sequence in val_data['sequences'].values():\n",
    "    keypoints = sequence['keypoints']\n",
    "    annotations = sequence['annotations']\n",
    "\n",
    "    num_frames = keypoints.shape[0]\n",
    "    for i in range(num_frames - window_size + 1):\n",
    "        window = keypoints[i:i+window_size]  # shape: (10, feature_dim)\n",
    "        window_flat = window.reshape(-1)     # shape: (10 * feature_dim,)\n",
    "        label = annotations[i + window_size - 1]  # label of the last frame in the window\n",
    "\n",
    "        val_features.append(window_flat)\n",
    "        val_labels.append(label)\n",
    "\n",
    "val_features = np.array(val_features)\n",
    "val_labels = np.array(val_labels)\n",
    "\n",
    "\n",
    "print(val_features.shape)\n",
    "print(val_labels.shape)"
   ]
  },
  {
   "cell_type": "code",
   "execution_count": 6,
   "id": "f1473cd4",
   "metadata": {},
   "outputs": [],
   "source": [
    "class FC_classifier(nn.Module):\n",
    "    def __init__(self, input_dim):\n",
    "        super(FC_classifier, self).__init__()\n",
    "        self.fc1 = nn.Linear(input_dim, 128)\n",
    "        self.fc2 = nn.Linear(128, 64) \n",
    "        self.fc3 = nn.Linear(64, 32)\n",
    "        self.fc4 = nn.Linear(32, 4) \n",
    "\n",
    "    def forward(self, x):\n",
    "        x = F.relu(self.fc1(x))\n",
    "        x = F.relu(self.fc2(x))\n",
    "        x = F.relu(self.fc3(x))\n",
    "        x = self.fc4(x)\n",
    "        return x\n",
    "    "
   ]
  },
  {
   "cell_type": "code",
   "execution_count": 7,
   "id": "8bf46511",
   "metadata": {},
   "outputs": [],
   "source": [
    "def validation(model, val_features, val_labels, device='cuda' if torch.cuda.is_available() else 'cpu'):\n",
    "    X = torch.tensor(val_features, dtype=torch.float32)\n",
    "    y = torch.tensor(val_labels, dtype=torch.long)\n",
    "    \n",
    "    dataset = TensorDataset(X, y)\n",
    "    dataloader = DataLoader(dataset, batch_size=256, shuffle=True)\n",
    "    \n",
    "    model = model.to(device)\n",
    "    model.eval()\n",
    "    \n",
    "    total_predictions = 0\n",
    "    correct_predictions = 0\n",
    "    labels = []\n",
    "    total_predicted = []\n",
    "    with torch.no_grad():\n",
    "        for batch_X, batch_y in dataloader:\n",
    "            batch_X, batch_y = batch_X.to(device), batch_y.to(device)\n",
    "            batch_X = batch_X.view(batch_X.size(0), -1)\n",
    "            outputs = model(batch_X)\n",
    "            \n",
    "            _, predicted = torch.max(outputs.data, 1)\n",
    "            total_predictions += batch_y.size(0)\n",
    "            correct_predictions += (predicted == batch_y).sum().item()\n",
    "            labels = labels + batch_y.tolist()\n",
    "            total_predicted = total_predicted + predicted.tolist()\n",
    "    F1 = f1_score(labels, total_predicted, average='macro', labels=[0, 1, 2])\n",
    "    print(f\"Val-F1: {F1:.4f}\")\n",
    "    return F1"
   ]
  },
  {
   "cell_type": "code",
   "execution_count": 8,
   "id": "454062ed",
   "metadata": {},
   "outputs": [],
   "source": [
    "def train_model(model, train_features, train_labels, epochs=10, batch_size=256, lr=1e-3, device='cuda' if torch.cuda.is_available() else 'cpu'):\n",
    "    X = torch.tensor(train_features, dtype=torch.float32)\n",
    "    y = torch.tensor(train_labels, dtype=torch.long)\n",
    "    \n",
    "    dataset = TensorDataset(X, y)\n",
    "    dataloader = DataLoader(dataset, batch_size=batch_size, shuffle=True)\n",
    "    \n",
    "    model = model.to(device)\n",
    "    optimizer = torch.optim.Adam(model.parameters(), lr=lr)\n",
    "    # weight = label_weight(train_labels)\n",
    "    weight = torch.tensor([1, 1, 1, 1], dtype=torch.float32)\n",
    "    criterion = torch.nn.CrossEntropyLoss(weight=weight)\n",
    "    \n",
    "    for epoch in range(epochs):\n",
    "        model.train()\n",
    "        total_loss = 0\n",
    "        total_predictions = 0\n",
    "        correct_predictions = 0\n",
    "        labels = []\n",
    "        total_predicted = []\n",
    "        for batch_X, batch_y in dataloader:\n",
    "            batch_X, batch_y = batch_X.to(device), batch_y.to(device)\n",
    "            batch_X = batch_X.view(batch_X.size(0), -1)\n",
    "            optimizer.zero_grad()\n",
    "            outputs = model(batch_X)\n",
    "            loss = criterion(outputs, batch_y)\n",
    "            loss.backward()\n",
    "            optimizer.step()\n",
    "\n",
    "            _, predicted = torch.max(outputs.data, 1)\n",
    "            total_predictions += batch_y.size(0)\n",
    "            correct_predictions += (predicted == batch_y).sum().item()\n",
    "            total_loss += loss.item() * batch_X.size(0)\n",
    "            labels = labels + batch_y.tolist()\n",
    "            total_predicted = total_predicted + predicted.tolist()\n",
    "            \n",
    "        avg_loss = total_loss / len(dataset)\n",
    "        accuracy = 100 * correct_predictions / total_predictions\n",
    "        F1 = f1_score(labels, total_predicted, average='macro', labels=[0, 1, 2])\n",
    "        print(f\"Epoch {epoch+1}/{epochs} - Train-Loss: {avg_loss:.4f} - Train-Accuracy: {accuracy:.2f}% - Train-F1: {F1:.4f}\")\n",
    "        validation(model, val_features, val_labels, device='cuda' if torch.cuda.is_available() else 'cpu')\n",
    "    print(\"Training complete.\")\n",
    "    return model"
   ]
  },
  {
   "cell_type": "code",
   "execution_count": 9,
   "id": "673e1d74",
   "metadata": {},
   "outputs": [
    {
     "name": "stdout",
     "output_type": "stream",
     "text": [
      "Epoch 1/30 - Train-Loss: 0.4927 - Train-Accuracy: 82.97% - Train-F1: 0.4644\n",
      "Val-F1: 0.5240\n",
      "Epoch 2/30 - Train-Loss: 0.3786 - Train-Accuracy: 86.16% - Train-F1: 0.5357\n",
      "Val-F1: 0.4765\n",
      "Epoch 3/30 - Train-Loss: 0.3608 - Train-Accuracy: 86.80% - Train-F1: 0.5626\n",
      "Val-F1: 0.5209\n",
      "Epoch 4/30 - Train-Loss: 0.3491 - Train-Accuracy: 87.21% - Train-F1: 0.5825\n",
      "Val-F1: 0.4904\n",
      "Epoch 5/30 - Train-Loss: 0.3381 - Train-Accuracy: 87.64% - Train-F1: 0.6079\n",
      "Val-F1: 0.5574\n",
      "Epoch 6/30 - Train-Loss: 0.3277 - Train-Accuracy: 88.00% - Train-F1: 0.6260\n",
      "Val-F1: 0.5786\n",
      "Epoch 7/30 - Train-Loss: 0.3191 - Train-Accuracy: 88.28% - Train-F1: 0.6447\n",
      "Val-F1: 0.4949\n",
      "Epoch 8/30 - Train-Loss: 0.3112 - Train-Accuracy: 88.56% - Train-F1: 0.6575\n",
      "Val-F1: 0.5586\n",
      "Epoch 9/30 - Train-Loss: 0.3060 - Train-Accuracy: 88.70% - Train-F1: 0.6647\n",
      "Val-F1: 0.5691\n",
      "Epoch 10/30 - Train-Loss: 0.3006 - Train-Accuracy: 88.89% - Train-F1: 0.6760\n",
      "Val-F1: 0.5635\n",
      "Epoch 11/30 - Train-Loss: 0.2975 - Train-Accuracy: 89.00% - Train-F1: 0.6829\n",
      "Val-F1: 0.5571\n",
      "Epoch 12/30 - Train-Loss: 0.2917 - Train-Accuracy: 89.19% - Train-F1: 0.6930\n",
      "Val-F1: 0.5493\n",
      "Epoch 13/30 - Train-Loss: 0.2870 - Train-Accuracy: 89.36% - Train-F1: 0.6991\n",
      "Val-F1: 0.5431\n",
      "Epoch 14/30 - Train-Loss: 0.2839 - Train-Accuracy: 89.47% - Train-F1: 0.7033\n",
      "Val-F1: 0.5519\n",
      "Epoch 15/30 - Train-Loss: 0.2826 - Train-Accuracy: 89.50% - Train-F1: 0.7058\n",
      "Val-F1: 0.4977\n",
      "Epoch 16/30 - Train-Loss: 0.2794 - Train-Accuracy: 89.67% - Train-F1: 0.7106\n",
      "Val-F1: 0.5319\n",
      "Epoch 17/30 - Train-Loss: 0.2766 - Train-Accuracy: 89.71% - Train-F1: 0.7135\n",
      "Val-F1: 0.5543\n",
      "Epoch 18/30 - Train-Loss: 0.2750 - Train-Accuracy: 89.77% - Train-F1: 0.7171\n",
      "Val-F1: 0.5489\n",
      "Epoch 19/30 - Train-Loss: 0.2716 - Train-Accuracy: 89.93% - Train-F1: 0.7216\n",
      "Val-F1: 0.5546\n",
      "Epoch 20/30 - Train-Loss: 0.2691 - Train-Accuracy: 90.01% - Train-F1: 0.7251\n",
      "Val-F1: 0.5142\n",
      "Epoch 21/30 - Train-Loss: 0.2670 - Train-Accuracy: 90.08% - Train-F1: 0.7288\n",
      "Val-F1: 0.5362\n",
      "Epoch 22/30 - Train-Loss: 0.2660 - Train-Accuracy: 90.12% - Train-F1: 0.7290\n",
      "Val-F1: 0.5075\n",
      "Epoch 23/30 - Train-Loss: 0.2647 - Train-Accuracy: 90.15% - Train-F1: 0.7302\n",
      "Val-F1: 0.5438\n",
      "Epoch 24/30 - Train-Loss: 0.2624 - Train-Accuracy: 90.24% - Train-F1: 0.7356\n",
      "Val-F1: 0.5151\n",
      "Epoch 25/30 - Train-Loss: 0.2621 - Train-Accuracy: 90.25% - Train-F1: 0.7361\n",
      "Val-F1: 0.5564\n",
      "Epoch 26/30 - Train-Loss: 0.2606 - Train-Accuracy: 90.32% - Train-F1: 0.7376\n",
      "Val-F1: 0.5372\n",
      "Epoch 27/30 - Train-Loss: 0.2597 - Train-Accuracy: 90.38% - Train-F1: 0.7408\n",
      "Val-F1: 0.5480\n",
      "Epoch 28/30 - Train-Loss: 0.2575 - Train-Accuracy: 90.39% - Train-F1: 0.7409\n",
      "Val-F1: 0.5355\n",
      "Epoch 29/30 - Train-Loss: 0.2566 - Train-Accuracy: 90.43% - Train-F1: 0.7441\n",
      "Val-F1: 0.5556\n",
      "Epoch 30/30 - Train-Loss: 0.2555 - Train-Accuracy: 90.49% - Train-F1: 0.7481\n",
      "Val-F1: 0.5204\n",
      "Training complete.\n"
     ]
    }
   ],
   "source": [
    "input_dim = 140\n",
    "model = FC_classifier(input_dim=input_dim)\n",
    "model = train_model(model, train_features, train_labels, epochs=30, batch_size=256, lr=1e-3, device='cuda' if torch.cuda.is_available() else 'cpu')"
   ]
  }
 ],
 "metadata": {
  "kernelspec": {
   "display_name": "pytorch_default",
   "language": "python",
   "name": "python3"
  },
  "language_info": {
   "codemirror_mode": {
    "name": "ipython",
    "version": 3
   },
   "file_extension": ".py",
   "mimetype": "text/x-python",
   "name": "python",
   "nbconvert_exporter": "python",
   "pygments_lexer": "ipython3",
   "version": "3.13.3"
  }
 },
 "nbformat": 4,
 "nbformat_minor": 5
}
