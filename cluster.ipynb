{
 "cells": [
  {
   "cell_type": "code",
   "execution_count": 1,
   "id": "05f84234",
   "metadata": {},
   "outputs": [],
   "source": [
    "from sklearn.metrics import f1_score\n",
    "import numpy as np\n",
    "import torch\n",
    "import torch.nn as nn\n",
    "import torch.optim as optim\n",
    "import torch.nn.functional as F\n",
    "from sklearn.cluster import KMeans\n",
    "\n",
    "from torch.utils.data import TensorDataset, DataLoader"
   ]
  },
  {
   "cell_type": "code",
   "execution_count": 2,
   "id": "10278d01",
   "metadata": {},
   "outputs": [],
   "source": [
    "test_data = np.load('dataset/test-release.npy', allow_pickle=True).item()\n",
    "train_split_data = np.load('dataset/train_split.npy', allow_pickle=True).item()\n",
    "val_split_data = np.load('dataset/val_split.npy', allow_pickle=True).item()"
   ]
  },
  {
   "cell_type": "code",
   "execution_count": 3,
   "id": "b6254640",
   "metadata": {},
   "outputs": [
    {
     "data": {
      "text/plain": [
       "(19492, 2, 2, 7)"
      ]
     },
     "execution_count": 3,
     "metadata": {},
     "output_type": "execute_result"
    }
   ],
   "source": [
    "test_data['sequences']['3c8a57ba51']['keypoints'].shape"
   ]
  },
  {
   "cell_type": "code",
   "execution_count": 5,
   "id": "4b9ce2d6",
   "metadata": {},
   "outputs": [
    {
     "data": {
      "text/plain": [
       "0"
      ]
     },
     "execution_count": 5,
     "metadata": {},
     "output_type": "execute_result"
    }
   ],
   "source": [
    "test_data['sequences']['3c8a57ba51']['annotator_id']"
   ]
  },
  {
   "cell_type": "code",
   "execution_count": 6,
   "id": "5280fdeb",
   "metadata": {},
   "outputs": [
    {
     "name": "stdout",
     "output_type": "stream",
     "text": [
      "(426635, 28)\n",
      "(426635,)\n"
     ]
    }
   ],
   "source": [
    "# train data processing\n",
    "train_features = []\n",
    "train_labels = []\n",
    "\n",
    "for sequence in train_split_data['sequences'].values():\n",
    "    keypoints = sequence['keypoints']\n",
    "    annotations = sequence['annotations']\n",
    "\n",
    "    num_frames = keypoints.shape[0]\n",
    "    keypoints[:, :, 0, :] /= 1024.0\n",
    "    keypoints[:, :, 1, :] /= 570.0\n",
    "    features_flat = keypoints.reshape(num_frames, -1)\n",
    "\n",
    "    train_features.append(features_flat)\n",
    "    train_labels.append(annotations)\n",
    "\n",
    "train_features = np.concatenate(train_features, axis=0)\n",
    "train_labels = np.concatenate(train_labels, axis=0)\n",
    "\n",
    "\n",
    "print(train_features.shape)\n",
    "print(train_labels.shape)"
   ]
  },
  {
   "cell_type": "code",
   "execution_count": 7,
   "id": "6afa6ae7",
   "metadata": {},
   "outputs": [
    {
     "name": "stdout",
     "output_type": "stream",
     "text": [
      "(81103, 28)\n",
      "(81103,)\n"
     ]
    }
   ],
   "source": [
    "# validation data processing\n",
    "val_features = []\n",
    "val_labels = []\n",
    "\n",
    "for sequence in val_split_data['sequences'].values():\n",
    "    keypoints = sequence['keypoints']\n",
    "    annotations = sequence['annotations']\n",
    "\n",
    "    num_frames = keypoints.shape[0]\n",
    "    keypoints[:, :, 0, :] /= 1024.0\n",
    "    keypoints[:, :, 1, :] /= 570.0\n",
    "    features_flat = keypoints.reshape(num_frames, -1)\n",
    "\n",
    "    val_features.append(features_flat)\n",
    "    val_labels.append(annotations)\n",
    "\n",
    "val_features = np.concatenate(val_features, axis=0)\n",
    "val_labels = np.concatenate(val_labels, axis=0)\n",
    "\n",
    "\n",
    "print(val_features.shape)\n",
    "print(val_labels.shape)"
   ]
  },
  {
   "cell_type": "code",
   "execution_count": 8,
   "id": "4e18cbf4",
   "metadata": {},
   "outputs": [
    {
     "name": "stdout",
     "output_type": "stream",
     "text": [
      "(8168491, 28)\n"
     ]
    }
   ],
   "source": [
    "# test data processing\n",
    "test_features = []\n",
    "\n",
    "for sequence in test_data['sequences'].values():\n",
    "    keypoints = sequence['keypoints']\n",
    "\n",
    "    num_frames = keypoints.shape[0]\n",
    "    keypoints[:, :, 0, :] /= 1024.0\n",
    "    keypoints[:, :, 1, :] /= 570.0\n",
    "    features_flat = keypoints.reshape(num_frames, -1)\n",
    "\n",
    "    test_features.append(features_flat)\n",
    "\n",
    "test_features = np.concatenate(test_features, axis=0)\n",
    "\n",
    "print(test_features.shape)"
   ]
  },
  {
   "cell_type": "code",
   "execution_count": 9,
   "id": "29100d84",
   "metadata": {},
   "outputs": [
    {
     "name": "stdout",
     "output_type": "stream",
     "text": [
      "(8595126, 28)\n"
     ]
    }
   ],
   "source": [
    "# combine train and val data\n",
    "combined_features = np.concatenate([train_features, test_features], axis=0)\n",
    "print(combined_features.shape)"
   ]
  },
  {
   "cell_type": "code",
   "execution_count": 10,
   "id": "68b01980",
   "metadata": {},
   "outputs": [
    {
     "name": "stdout",
     "output_type": "stream",
     "text": [
      "(8595126,)\n"
     ]
    }
   ],
   "source": [
    "# cluster the combined features into 20 clusters\n",
    "n_clusters = 20\n",
    "kmeans = KMeans(n_clusters=n_clusters, random_state=42)\n",
    "cluster_labels = kmeans.fit_predict(combined_features)\n",
    "\n",
    "print(cluster_labels.shape)\n",
    "np.save('./dataset/cluster_labels.npy', cluster_labels)"
   ]
  },
  {
   "cell_type": "code",
   "execution_count": 11,
   "id": "8e28a118",
   "metadata": {},
   "outputs": [],
   "source": [
    "class FC_classifier(nn.Module):\n",
    "    def __init__(self, input_dim):\n",
    "        super(FC_classifier, self).__init__()\n",
    "        \n",
    "        self.fc1 = nn.Linear(input_dim, 128)\n",
    "        self.fc2 = nn.Linear(128, 64)\n",
    "        self.fc3 = nn.Linear(64, 32)\n",
    "        self.fc_final_20 = nn.Linear(32, 20)\n",
    "        self.fc_final_4 = nn.Linear(32, 4)\n",
    "\n",
    "    def forward(self, x, is_combined_features=False):\n",
    "        x = F.relu(self.fc1(x))\n",
    "        x = F.relu(self.fc2(x))\n",
    "        x = F.relu(self.fc3(x))\n",
    "        if is_combined_features:\n",
    "            x = self.fc_final_20(x)\n",
    "        else:\n",
    "            x = self.fc_final_4(x)\n",
    "        return x"
   ]
  },
  {
   "cell_type": "code",
   "execution_count": 12,
   "id": "7f646080",
   "metadata": {},
   "outputs": [],
   "source": [
    "combined_labels = np.load('./dataset/cluster_labels.npy')"
   ]
  },
  {
   "cell_type": "code",
   "execution_count": 13,
   "id": "0c069938",
   "metadata": {},
   "outputs": [],
   "source": [
    "def validation(model, val_features, val_labels, device='cuda' if torch.cuda.is_available() else 'mps'):\n",
    "    X = torch.tensor(val_features, dtype=torch.float32)\n",
    "    y = torch.tensor(val_labels, dtype=torch.long)\n",
    "    \n",
    "    dataset = TensorDataset(X, y)\n",
    "    dataloader = DataLoader(dataset, batch_size=256, shuffle=True)\n",
    "    \n",
    "    model = model.to(device)\n",
    "    model.eval()\n",
    "    \n",
    "    total_predictions = 0\n",
    "    correct_predictions = 0\n",
    "    labels = []\n",
    "    total_predicted = []\n",
    "    with torch.no_grad():\n",
    "        for batch_X, batch_y in dataloader:\n",
    "            batch_X, batch_y = batch_X.to(device), batch_y.to(device)\n",
    "            batch_X = batch_X.view(batch_X.size(0), -1)\n",
    "            outputs = model(batch_X)\n",
    "            \n",
    "            _, predicted = torch.max(outputs.data, 1)\n",
    "            total_predictions += batch_y.size(0)\n",
    "            correct_predictions += (predicted == batch_y).sum().item()\n",
    "            labels = labels + batch_y.tolist()\n",
    "            total_predicted = total_predicted + predicted.tolist()\n",
    "    F1 = f1_score(labels, total_predicted, average='macro', labels=[0, 1, 2])\n",
    "    print(f\"Val-F1: {F1:.4f}\")\n",
    "    return F1"
   ]
  },
  {
   "cell_type": "code",
   "execution_count": 14,
   "id": "26ad4e1c",
   "metadata": {},
   "outputs": [],
   "source": [
    "def train_model(model, train_features, train_labels, combined_features, combined_labels, epochs=10, batch_size=256, lr=1e-3, device='cuda' if torch.cuda.is_available() else 'mps'):\n",
    "    train_features = torch.tensor(train_features, dtype=torch.float32)\n",
    "    train_labels = torch.tensor(train_labels, dtype=torch.long)\n",
    "    combined_labels = torch.tensor(combined_labels, dtype=torch.long)\n",
    "    combined_features = torch.tensor(combined_features, dtype=torch.float32)\n",
    "    \n",
    "    train_dataset = TensorDataset(train_features, train_labels)\n",
    "    train_dataloader = DataLoader(train_dataset, batch_size=batch_size, shuffle=True)\n",
    "    combined_dataset = TensorDataset(combined_features, combined_labels)\n",
    "    combined_dataloader = DataLoader(combined_dataset, batch_size=batch_size, shuffle=True)\n",
    "    \n",
    "    model = model.to(device)\n",
    "    optimizer = torch.optim.Adam(model.parameters(), lr=lr)\n",
    "    criterion = torch.nn.CrossEntropyLoss()\n",
    "    \n",
    "    for epoch in range(epochs):\n",
    "        model.train()\n",
    "        total_loss = 0\n",
    "        total_predictions = 0\n",
    "        correct_predictions = 0\n",
    "        labels = []\n",
    "        total_predicted = []\n",
    "        for batch_X, batch_y in train_dataloader:\n",
    "            batch_X, batch_y = batch_X.to(device), batch_y.to(device)\n",
    "            batch_X = batch_X.view(batch_X.size(0), -1)\n",
    "            optimizer.zero_grad()\n",
    "            outputs = model(batch_X, is_combined_features=False)\n",
    "            loss = criterion(outputs, batch_y)\n",
    "            loss.backward()\n",
    "            optimizer.step()\n",
    "\n",
    "            _, predicted = torch.max(outputs.data, 1)\n",
    "            total_predictions += batch_y.size(0)\n",
    "            correct_predictions += (predicted == batch_y).sum().item()\n",
    "            total_loss += loss.item() * batch_X.size(0)\n",
    "            labels = labels + batch_y.tolist()\n",
    "            total_predicted = total_predicted + predicted.tolist()\n",
    "        for batch_X, batch_y in combined_dataloader:\n",
    "            batch_X, batch_y = batch_X.to(device), batch_y.to(device)\n",
    "            batch_X = batch_X.view(batch_X.size(0), -1)\n",
    "            optimizer.zero_grad()\n",
    "            outputs = model(batch_X, is_combined_features=True)\n",
    "            loss = criterion(outputs, batch_y)\n",
    "            loss.backward()\n",
    "            optimizer.step()\n",
    "            \n",
    "        avg_loss = total_loss / len(train_dataset)\n",
    "        accuracy = 100 * correct_predictions / total_predictions\n",
    "        F1 = f1_score(labels, total_predicted, average='macro', labels=[0, 1, 2])\n",
    "        print(f\"Epoch {epoch+1}/{epochs} - Train-Loss: {avg_loss:.4f} - Train-Accuracy: {accuracy:.2f}% - Train-F1: {F1:.4f}\")\n",
    "        validation(model, val_features, val_labels, device='cuda' if torch.cuda.is_available() else 'mps')\n",
    "    print(\"Training complete.\")\n",
    "    return model"
   ]
  },
  {
   "cell_type": "code",
   "execution_count": 15,
   "id": "46f110e4",
   "metadata": {},
   "outputs": [
    {
     "name": "stdout",
     "output_type": "stream",
     "text": [
      "Epoch 1/50 - Train-Loss: 0.4932 - Train-Accuracy: 81.25% - Train-F1: 0.4487\n",
      "Val-F1: 0.0438\n",
      "Epoch 2/50 - Train-Loss: 0.5939 - Train-Accuracy: 82.13% - Train-F1: 0.4328\n",
      "Val-F1: 0.1108\n",
      "Epoch 3/50 - Train-Loss: 0.4606 - Train-Accuracy: 84.36% - Train-F1: 0.4946\n",
      "Val-F1: 0.0958\n",
      "Epoch 4/50 - Train-Loss: 0.4410 - Train-Accuracy: 84.68% - Train-F1: 0.4999\n",
      "Val-F1: 0.1491\n",
      "Epoch 5/50 - Train-Loss: 0.4293 - Train-Accuracy: 85.12% - Train-F1: 0.5070\n",
      "Val-F1: 0.1616\n",
      "Epoch 6/50 - Train-Loss: 0.4236 - Train-Accuracy: 85.26% - Train-F1: 0.5092\n",
      "Val-F1: 0.1696\n",
      "Epoch 7/50 - Train-Loss: 0.4223 - Train-Accuracy: 85.16% - Train-F1: 0.5100\n",
      "Val-F1: 0.1817\n",
      "Epoch 8/50 - Train-Loss: 0.4192 - Train-Accuracy: 85.13% - Train-F1: 0.5077\n",
      "Val-F1: 0.1747\n",
      "Epoch 9/50 - Train-Loss: 0.4049 - Train-Accuracy: 85.57% - Train-F1: 0.5144\n",
      "Val-F1: 0.2195\n",
      "Epoch 10/50 - Train-Loss: 0.4012 - Train-Accuracy: 85.70% - Train-F1: 0.5182\n",
      "Val-F1: 0.1978\n",
      "Epoch 11/50 - Train-Loss: 0.4014 - Train-Accuracy: 85.66% - Train-F1: 0.5147\n",
      "Val-F1: 0.2128\n",
      "Epoch 12/50 - Train-Loss: 0.4077 - Train-Accuracy: 85.35% - Train-F1: 0.5088\n",
      "Val-F1: 0.2143\n",
      "Epoch 13/50 - Train-Loss: 0.3995 - Train-Accuracy: 85.72% - Train-F1: 0.5169\n",
      "Val-F1: 0.2357\n",
      "Epoch 14/50 - Train-Loss: 0.3926 - Train-Accuracy: 85.97% - Train-F1: 0.5229\n",
      "Val-F1: 0.2519\n",
      "Epoch 15/50 - Train-Loss: 0.3879 - Train-Accuracy: 86.09% - Train-F1: 0.5263\n",
      "Val-F1: 0.2495\n",
      "Epoch 16/50 - Train-Loss: 0.3856 - Train-Accuracy: 86.19% - Train-F1: 0.5286\n",
      "Val-F1: 0.2604\n",
      "Epoch 17/50 - Train-Loss: 0.3816 - Train-Accuracy: 86.34% - Train-F1: 0.5315\n",
      "Val-F1: 0.2329\n",
      "Epoch 18/50 - Train-Loss: 0.3831 - Train-Accuracy: 86.32% - Train-F1: 0.5318\n",
      "Val-F1: 0.2643\n",
      "Epoch 19/50 - Train-Loss: 0.3802 - Train-Accuracy: 86.36% - Train-F1: 0.5303\n",
      "Val-F1: 0.2116\n",
      "Epoch 20/50 - Train-Loss: 0.3789 - Train-Accuracy: 86.44% - Train-F1: 0.5322\n",
      "Val-F1: 0.2322\n",
      "Epoch 21/50 - Train-Loss: 0.3774 - Train-Accuracy: 86.44% - Train-F1: 0.5314\n",
      "Val-F1: 0.1861\n",
      "Epoch 22/50 - Train-Loss: 0.3755 - Train-Accuracy: 86.55% - Train-F1: 0.5376\n",
      "Val-F1: 0.1903\n",
      "Epoch 23/50 - Train-Loss: 0.3742 - Train-Accuracy: 86.57% - Train-F1: 0.5388\n",
      "Val-F1: 0.1773\n",
      "Epoch 24/50 - Train-Loss: 0.3785 - Train-Accuracy: 86.40% - Train-F1: 0.5363\n",
      "Val-F1: 0.1969\n"
     ]
    },
    {
     "ename": "KeyboardInterrupt",
     "evalue": "",
     "output_type": "error",
     "traceback": [
      "\u001b[31m---------------------------------------------------------------------------\u001b[39m",
      "\u001b[31mKeyboardInterrupt\u001b[39m                         Traceback (most recent call last)",
      "\u001b[36mCell\u001b[39m\u001b[36m \u001b[39m\u001b[32mIn[15]\u001b[39m\u001b[32m, line 3\u001b[39m\n\u001b[32m      1\u001b[39m input_dim = \u001b[32m28\u001b[39m\n\u001b[32m      2\u001b[39m model = FC_classifier(input_dim=input_dim)\n\u001b[32m----> \u001b[39m\u001b[32m3\u001b[39m model = train_model(model, train_features, train_labels, combined_features, combined_labels, epochs=\u001b[32m50\u001b[39m, batch_size=\u001b[32m256\u001b[39m, lr=\u001b[32m1e-3\u001b[39m, device=\u001b[33m'\u001b[39m\u001b[33mcuda\u001b[39m\u001b[33m'\u001b[39m \u001b[38;5;28;01mif\u001b[39;00m torch.cuda.is_available() \u001b[38;5;28;01melse\u001b[39;00m \u001b[33m'\u001b[39m\u001b[33mmps\u001b[39m\u001b[33m'\u001b[39m)\n",
      "\u001b[36mCell\u001b[39m\u001b[36m \u001b[39m\u001b[32mIn[14]\u001b[39m\u001b[32m, line 38\u001b[39m, in \u001b[36mtrain_model\u001b[39m\u001b[34m(model, train_features, train_labels, combined_features, combined_labels, epochs, batch_size, lr, device)\u001b[39m\n\u001b[32m     36\u001b[39m     labels = labels + batch_y.tolist()\n\u001b[32m     37\u001b[39m     total_predicted = total_predicted + predicted.tolist()\n\u001b[32m---> \u001b[39m\u001b[32m38\u001b[39m \u001b[38;5;28;01mfor\u001b[39;00m batch_X, batch_y \u001b[38;5;129;01min\u001b[39;00m combined_dataloader:\n\u001b[32m     39\u001b[39m     batch_X, batch_y = batch_X.to(device), batch_y.to(device)\n\u001b[32m     40\u001b[39m     batch_X = batch_X.view(batch_X.size(\u001b[32m0\u001b[39m), -\u001b[32m1\u001b[39m)\n",
      "\u001b[36mFile \u001b[39m\u001b[32m~/anaconda3/envs/pytorch_default/lib/python3.13/site-packages/torch/utils/data/dataloader.py:733\u001b[39m, in \u001b[36m_BaseDataLoaderIter.__next__\u001b[39m\u001b[34m(self)\u001b[39m\n\u001b[32m    730\u001b[39m \u001b[38;5;28;01mif\u001b[39;00m \u001b[38;5;28mself\u001b[39m._sampler_iter \u001b[38;5;129;01mis\u001b[39;00m \u001b[38;5;28;01mNone\u001b[39;00m:\n\u001b[32m    731\u001b[39m     \u001b[38;5;66;03m# TODO(https://github.com/pytorch/pytorch/issues/76750)\u001b[39;00m\n\u001b[32m    732\u001b[39m     \u001b[38;5;28mself\u001b[39m._reset()  \u001b[38;5;66;03m# type: ignore[call-arg]\u001b[39;00m\n\u001b[32m--> \u001b[39m\u001b[32m733\u001b[39m data = \u001b[38;5;28mself\u001b[39m._next_data()\n\u001b[32m    734\u001b[39m \u001b[38;5;28mself\u001b[39m._num_yielded += \u001b[32m1\u001b[39m\n\u001b[32m    735\u001b[39m \u001b[38;5;28;01mif\u001b[39;00m (\n\u001b[32m    736\u001b[39m     \u001b[38;5;28mself\u001b[39m._dataset_kind == _DatasetKind.Iterable\n\u001b[32m    737\u001b[39m     \u001b[38;5;129;01mand\u001b[39;00m \u001b[38;5;28mself\u001b[39m._IterableDataset_len_called \u001b[38;5;129;01mis\u001b[39;00m \u001b[38;5;129;01mnot\u001b[39;00m \u001b[38;5;28;01mNone\u001b[39;00m\n\u001b[32m    738\u001b[39m     \u001b[38;5;129;01mand\u001b[39;00m \u001b[38;5;28mself\u001b[39m._num_yielded > \u001b[38;5;28mself\u001b[39m._IterableDataset_len_called\n\u001b[32m    739\u001b[39m ):\n",
      "\u001b[36mFile \u001b[39m\u001b[32m~/anaconda3/envs/pytorch_default/lib/python3.13/site-packages/torch/utils/data/dataloader.py:789\u001b[39m, in \u001b[36m_SingleProcessDataLoaderIter._next_data\u001b[39m\u001b[34m(self)\u001b[39m\n\u001b[32m    787\u001b[39m \u001b[38;5;28;01mdef\u001b[39;00m\u001b[38;5;250m \u001b[39m\u001b[34m_next_data\u001b[39m(\u001b[38;5;28mself\u001b[39m):\n\u001b[32m    788\u001b[39m     index = \u001b[38;5;28mself\u001b[39m._next_index()  \u001b[38;5;66;03m# may raise StopIteration\u001b[39;00m\n\u001b[32m--> \u001b[39m\u001b[32m789\u001b[39m     data = \u001b[38;5;28mself\u001b[39m._dataset_fetcher.fetch(index)  \u001b[38;5;66;03m# may raise StopIteration\u001b[39;00m\n\u001b[32m    790\u001b[39m     \u001b[38;5;28;01mif\u001b[39;00m \u001b[38;5;28mself\u001b[39m._pin_memory:\n\u001b[32m    791\u001b[39m         data = _utils.pin_memory.pin_memory(data, \u001b[38;5;28mself\u001b[39m._pin_memory_device)\n",
      "\u001b[36mFile \u001b[39m\u001b[32m~/anaconda3/envs/pytorch_default/lib/python3.13/site-packages/torch/utils/data/_utils/fetch.py:52\u001b[39m, in \u001b[36m_MapDatasetFetcher.fetch\u001b[39m\u001b[34m(self, possibly_batched_index)\u001b[39m\n\u001b[32m     50\u001b[39m         data = \u001b[38;5;28mself\u001b[39m.dataset.__getitems__(possibly_batched_index)\n\u001b[32m     51\u001b[39m     \u001b[38;5;28;01melse\u001b[39;00m:\n\u001b[32m---> \u001b[39m\u001b[32m52\u001b[39m         data = [\u001b[38;5;28mself\u001b[39m.dataset[idx] \u001b[38;5;28;01mfor\u001b[39;00m idx \u001b[38;5;129;01min\u001b[39;00m possibly_batched_index]\n\u001b[32m     53\u001b[39m \u001b[38;5;28;01melse\u001b[39;00m:\n\u001b[32m     54\u001b[39m     data = \u001b[38;5;28mself\u001b[39m.dataset[possibly_batched_index]\n",
      "\u001b[36mFile \u001b[39m\u001b[32m~/anaconda3/envs/pytorch_default/lib/python3.13/site-packages/torch/utils/data/dataset.py:207\u001b[39m, in \u001b[36mTensorDataset.__getitem__\u001b[39m\u001b[34m(self, index)\u001b[39m\n\u001b[32m    206\u001b[39m \u001b[38;5;28;01mdef\u001b[39;00m\u001b[38;5;250m \u001b[39m\u001b[34m__getitem__\u001b[39m(\u001b[38;5;28mself\u001b[39m, index):\n\u001b[32m--> \u001b[39m\u001b[32m207\u001b[39m     \u001b[38;5;28;01mreturn\u001b[39;00m \u001b[38;5;28mtuple\u001b[39m(tensor[index] \u001b[38;5;28;01mfor\u001b[39;00m tensor \u001b[38;5;129;01min\u001b[39;00m \u001b[38;5;28mself\u001b[39m.tensors)\n",
      "\u001b[36mFile \u001b[39m\u001b[32m~/anaconda3/envs/pytorch_default/lib/python3.13/site-packages/torch/utils/data/dataset.py:207\u001b[39m, in \u001b[36m<genexpr>\u001b[39m\u001b[34m(.0)\u001b[39m\n\u001b[32m    206\u001b[39m \u001b[38;5;28;01mdef\u001b[39;00m\u001b[38;5;250m \u001b[39m\u001b[34m__getitem__\u001b[39m(\u001b[38;5;28mself\u001b[39m, index):\n\u001b[32m--> \u001b[39m\u001b[32m207\u001b[39m     \u001b[38;5;28;01mreturn\u001b[39;00m \u001b[38;5;28mtuple\u001b[39m(tensor[index] \u001b[38;5;28;01mfor\u001b[39;00m tensor \u001b[38;5;129;01min\u001b[39;00m \u001b[38;5;28mself\u001b[39m.tensors)\n",
      "\u001b[31mKeyboardInterrupt\u001b[39m: "
     ]
    }
   ],
   "source": [
    "input_dim = 28\n",
    "model = FC_classifier(input_dim=input_dim)\n",
    "model = train_model(model, train_features, train_labels, combined_features, combined_labels, epochs=50, batch_size=256, lr=1e-3, device='cuda' if torch.cuda.is_available() else 'mps')"
   ]
  },
  {
   "cell_type": "code",
   "execution_count": null,
   "id": "e24df691",
   "metadata": {},
   "outputs": [],
   "source": []
  }
 ],
 "metadata": {
  "kernelspec": {
   "display_name": "pytorch_default",
   "language": "python",
   "name": "python3"
  },
  "language_info": {
   "codemirror_mode": {
    "name": "ipython",
    "version": 3
   },
   "file_extension": ".py",
   "mimetype": "text/x-python",
   "name": "python",
   "nbconvert_exporter": "python",
   "pygments_lexer": "ipython3",
   "version": "3.13.3"
  }
 },
 "nbformat": 4,
 "nbformat_minor": 5
}
