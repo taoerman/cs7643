{
  "nbformat": 4,
  "nbformat_minor": 0,
  "metadata": {
    "colab": {
      "provenance": [],
      "include_colab_link": true
    },
    "kernelspec": {
      "name": "python3",
      "display_name": "Python 3"
    },
    "language_info": {
      "name": "python"
    }
  },
  "cells": [
    {
      "cell_type": "markdown",
      "metadata": {
        "id": "view-in-github",
        "colab_type": "text"
      },
      "source": [
        "<a href=\"https://colab.research.google.com/github/taoerman/cs7643/blob/main/AutoEncoder_Classifier.ipynb\" target=\"_parent\"><img src=\"https://colab.research.google.com/assets/colab-badge.svg\" alt=\"Open In Colab\"/></a>"
      ]
    },
    {
      "cell_type": "code",
      "execution_count": 55,
      "metadata": {
        "id": "3v07C8xEWOD2"
      },
      "outputs": [],
      "source": [
        "from sklearn.metrics import f1_score, accuracy_score\n",
        "import numpy as np\n",
        "import torch\n",
        "import torch.nn as nn\n",
        "import torch.optim as optim\n",
        "import torch.nn.functional as F\n",
        "\n",
        "import numpy as np\n",
        "import pandas as pd\n",
        "\n",
        "from torch.utils.data import TensorDataset, DataLoader\n",
        "from sklearn.utils.class_weight import compute_class_weight"
      ]
    },
    {
      "cell_type": "code",
      "source": [
        "from google.colab import drive\n",
        "drive.mount('/content/drive')"
      ],
      "metadata": {
        "colab": {
          "base_uri": "https://localhost:8080/"
        },
        "id": "Rxn-LKXiZQGp",
        "outputId": "67fe6074-c849-45dd-c44e-0d66e4135a55"
      },
      "execution_count": 56,
      "outputs": [
        {
          "output_type": "stream",
          "name": "stdout",
          "text": [
            "Drive already mounted at /content/drive; to attempt to forcibly remount, call drive.mount(\"/content/drive\", force_remount=True).\n"
          ]
        }
      ]
    },
    {
      "cell_type": "code",
      "source": [
        "import torch\n",
        "import torch.nn as nn\n",
        "import torch.nn.functional as F\n",
        "import numpy as np\n",
        "\n",
        "def reweight(cls_num_list, beta=0.9999):\n",
        "    \"\"\"\n",
        "    Reweight each class using effective number of samples, from\n",
        "    \"Class-Balanced Loss Based on Effective Number of Samples\"\n",
        "    \"\"\"\n",
        "    effective_num = 1.0 - np.power(beta, cls_num_list)\n",
        "    per_cls_weights = (1.0 - beta) / np.array(effective_num)\n",
        "    per_cls_weights = per_cls_weights / np.sum(per_cls_weights) * len(cls_num_list)\n",
        "    return torch.tensor(per_cls_weights, dtype=torch.float32)\n",
        "\n",
        "class FocalLoss(nn.Module):\n",
        "    def __init__(self, weight=None, gamma=2.0):\n",
        "        super().__init__()\n",
        "        assert gamma >= 0\n",
        "        self.gamma = gamma\n",
        "        self.weight = weight\n",
        "\n",
        "    def forward(self, input, target):\n",
        "        log_p = F.log_softmax(input, dim=1)\n",
        "        batch_size = input.shape[0]\n",
        "        log_p_target = log_p[range(batch_size), target]\n",
        "        prob = torch.exp(log_p)\n",
        "        target_prob = prob[range(batch_size), target]\n",
        "        focal_weight = (1 - target_prob) ** self.gamma\n",
        "        alpha_t = self.weight[target]\n",
        "        loss = -alpha_t * focal_weight * log_p_target\n",
        "        return loss.mean()\n"
      ],
      "metadata": {
        "id": "UILinI_U4v0v"
      },
      "execution_count": 57,
      "outputs": []
    },
    {
      "cell_type": "code",
      "source": [
        "#Load data from My Drive\n",
        "# train_data = np.load('/content/drive/My Drive/train_split.npy', allow_pickle=True).item()\n",
        "# val_data = np.load('/content/drive/My Drive/val_split.npy', allow_pickle=True).item()\n",
        "# test_data = np.load('/content/drive/My Drive/test-release.npy', allow_pickle=True).item()"
      ],
      "metadata": {
        "id": "bCVVzHC9ZR0T"
      },
      "execution_count": 58,
      "outputs": []
    },
    {
      "cell_type": "code",
      "source": [
        "#Load data from My Drive\n",
        "train_data = np.load('train_split.npy', allow_pickle=True).item()\n",
        "val_data = np.load('val_split.npy', allow_pickle=True).item()\n",
        "test_data = np.load('test-release.npy', allow_pickle=True).item()"
      ],
      "metadata": {
        "id": "QJotXu9fs4C2"
      },
      "execution_count": 59,
      "outputs": []
    },
    {
      "cell_type": "code",
      "source": [
        "# train data processing, generate 2 * 2 * 7 = 28 train features by frames\n",
        "train_features = []\n",
        "train_labels = []\n",
        "\n",
        "for sequence in train_data['sequences'].values():\n",
        "    keypoints = sequence['keypoints']\n",
        "    annotations = sequence['annotations']\n",
        "\n",
        "    num_frames = keypoints.shape[0]\n",
        "    # Flatten features from (frames, 2 mice , 2 xy , 7 keypoints) into (frames, 28)\n",
        "    features_flat = keypoints.reshape(num_frames, -1)\n",
        "\n",
        "    train_features.append(features_flat)\n",
        "    train_labels.append(annotations)\n",
        "\n",
        "# concatenate all vedio (sequences)\n",
        "train_features = np.concatenate(train_features, axis=0)\n",
        "train_labels = np.concatenate(train_labels, axis=0)\n",
        "\n",
        "\n",
        "print(train_features.shape)\n",
        "print(train_labels.shape)"
      ],
      "metadata": {
        "colab": {
          "base_uri": "https://localhost:8080/"
        },
        "id": "bslIB1m9dLzh",
        "outputId": "c1a00796-bba0-4e45-dd02-fe7e1513d791"
      },
      "execution_count": 60,
      "outputs": [
        {
          "output_type": "stream",
          "name": "stdout",
          "text": [
            "(426635, 28)\n",
            "(426635,)\n"
          ]
        }
      ]
    },
    {
      "cell_type": "code",
      "source": [
        "from collections import Counter\n",
        "\n",
        "cls_num_list = []\n",
        "num_classes = 4\n",
        "cls_counts = Counter(train_labels)\n",
        "print(\"Class sample counts:\")\n",
        "for cls, count in sorted(cls_counts.items()):\n",
        "    print(f\"Class {cls}: {count} \")\n",
        "    cls_num_list.append(count)\n",
        "\n",
        "print(cls_num_list)"
      ],
      "metadata": {
        "id": "HGa_ybCS40Q5",
        "outputId": "4481002e-66c5-401f-9104-5160af615a94",
        "colab": {
          "base_uri": "https://localhost:8080/"
        }
      },
      "execution_count": 61,
      "outputs": [
        {
          "output_type": "stream",
          "name": "stdout",
          "text": [
            "Class sample counts:\n",
            "Class 0: 13765 \n",
            "Class 1: 119528 \n",
            "Class 2: 23040 \n",
            "Class 3: 270302 \n",
            "[13765, 119528, 23040, 270302]\n"
          ]
        }
      ]
    },
    {
      "cell_type": "code",
      "source": [
        "# validation data processing\n",
        "val_features = []\n",
        "val_labels = []\n",
        "\n",
        "for sequence in val_data['sequences'].values():\n",
        "    keypoints = sequence['keypoints']\n",
        "    annotations = sequence['annotations']\n",
        "\n",
        "    num_frames = keypoints.shape[0]\n",
        "    features_flat = keypoints.reshape(num_frames, -1)\n",
        "\n",
        "    val_features.append(features_flat)\n",
        "    val_labels.append(annotations)\n",
        "\n",
        "val_features = np.concatenate(val_features, axis=0)\n",
        "val_labels = np.concatenate(val_labels, axis=0)\n",
        "\n",
        "\n",
        "print(val_features.shape)\n",
        "print(val_labels.shape)"
      ],
      "metadata": {
        "colab": {
          "base_uri": "https://localhost:8080/"
        },
        "id": "mAO23ZIqeiL5",
        "outputId": "7dc74d4e-b26c-4999-e365-e7c3df7934bf"
      },
      "execution_count": 62,
      "outputs": [
        {
          "output_type": "stream",
          "name": "stdout",
          "text": [
            "(81103, 28)\n",
            "(81103,)\n"
          ]
        }
      ]
    },
    {
      "cell_type": "markdown",
      "source": [
        "An AutoEncoder to compress high-dimensional features (28D features) into a latent space (32D latent vector)"
      ],
      "metadata": {
        "id": "RxgIMdYv6vzZ"
      }
    },
    {
      "cell_type": "code",
      "source": [
        "class AutoEncoder(nn.Module):\n",
        "    def __init__(self, input_dim, bottleneck_dim=32):\n",
        "        super().__init__()\n",
        "        self.encoder = nn.Sequential(\n",
        "            nn.Linear(input_dim, 128),\n",
        "            # nn.BatchNorm1d(128),\n",
        "            nn.ReLU(),\n",
        "            nn.Linear(128, bottleneck_dim)\n",
        "        )\n",
        "        self.decoder = nn.Sequential(\n",
        "            nn.Linear(bottleneck_dim, 128),\n",
        "            # nn.BatchNorm1d(128),\n",
        "            nn.ReLU(),\n",
        "            nn.Linear(128, input_dim)\n",
        "        )\n",
        "\n",
        "    def forward(self, x):\n",
        "        z = self.encoder(x)\n",
        "        x_hat = self.decoder(z)\n",
        "        return x_hat, z  # return the reconstructed input and the latent vector"
      ],
      "metadata": {
        "id": "Qn1WZonYvo6S"
      },
      "execution_count": 69,
      "outputs": []
    },
    {
      "cell_type": "markdown",
      "source": [
        "A classifier that uses the latent feature to predict behavior classes"
      ],
      "metadata": {
        "id": "zLEcNQDY7hh6"
      }
    },
    {
      "cell_type": "code",
      "source": [
        "\n",
        "class Classifier(nn.Module):\n",
        "    def __init__(self, bottleneck_dim=32, num_classes=4):\n",
        "        super().__init__()\n",
        "        self.fc = nn.Sequential(\n",
        "            nn.Linear(bottleneck_dim, 128), #2-layer MLP : [32 -> 64 -> 4]\n",
        "            # nn.BatchNorm1d(128),\n",
        "            nn.ReLU(),\n",
        "            nn.Dropout(0.3),\n",
        "            nn.Linear(128, 64),\n",
        "            # nn.BatchNorm1d(64),\n",
        "            nn.ReLU(),\n",
        "            nn.Dropout(0.3),\n",
        "            nn.Linear(64, num_classes)\n",
        "        )\n",
        "\n",
        "    def forward(self, z):\n",
        "        return self.fc(z)"
      ],
      "metadata": {
        "id": "NGtZ1_9S7g1Z"
      },
      "execution_count": 73,
      "outputs": []
    },
    {
      "cell_type": "code",
      "source": [
        "\n",
        "device = torch.device(\"cuda\" if torch.cuda.is_available() else \"cpu\")\n",
        "\n",
        "# Assume these exist:\n",
        "# train_features, train_labels, val_features, val_labels\n",
        "\n",
        "# Move data to device\n",
        "X = torch.tensor(train_features, dtype=torch.float32)\n",
        "y = torch.tensor(train_labels, dtype=torch.long)\n",
        "val_X = torch.tensor(val_features, dtype=torch.float32)\n",
        "val_y = torch.tensor(val_labels, dtype=torch.long)\n",
        "\n",
        "train_loader = DataLoader(TensorDataset(X, y), batch_size=256, shuffle=True)\n",
        "val_loader = DataLoader(TensorDataset(val_X, val_y), batch_size=256)\n",
        "\n",
        "\n",
        "# ------------------------\n",
        "# 3. Models and Optimizer\n",
        "# ------------------------\n",
        "\n",
        "# Model Instantiation\n",
        "input_dim = X.shape[1]\n",
        "ae = AutoEncoder(input_dim=input_dim, bottleneck_dim=32).to(device)\n",
        "clf = Classifier(bottleneck_dim=32, num_classes=4).to(device)\n",
        "\n",
        "\n",
        "params = list(ae.parameters()) + list(clf.parameters())\n",
        "optimizer = torch.optim.Adam(params, lr=1e-3)\n",
        "\n",
        "recon_loss_fn = nn.MSELoss() #measures how close x_hat is to original x\n",
        "# class_loss_fn = nn.CrossEntropyLoss() #measures multi-class classification error\n",
        "\n",
        "############################\n",
        "beta = 0.9999\n",
        "per_cls_weights = reweight(cls_num_list, beta=beta).to(device)\n",
        "focal_loss_fn = FocalLoss(weight=per_cls_weights, gamma=2.0)\n",
        "\n",
        "beta = 1.0\n",
        "\n",
        "# ------------------------\n",
        "# 4. Tracking Variables\n",
        "# ------------------------\n",
        "\n",
        "train_acc_list = []\n",
        "val_acc_list = []\n",
        "train_f1_list = []\n",
        "val_f1_list = []\n",
        "\n",
        "# ------------------------\n",
        "# 5. Training Loop\n",
        "# ------------------------\n",
        "\n",
        "for epoch in range(30):\n",
        "    ae.train()\n",
        "    clf.train()\n",
        "    total_recon_loss = 0\n",
        "    total_class_loss = 0\n",
        "\n",
        "    y_true_train = []\n",
        "    y_pred_train = []\n",
        "\n",
        "    for batch_X, batch_y in train_loader:\n",
        "        batch_X, batch_y = batch_X.to(device), batch_y.to(device)\n",
        "\n",
        "        optimizer.zero_grad()\n",
        "        x_hat, z = ae(batch_X)\n",
        "        logits = clf(z)\n",
        "\n",
        "        loss_recon = recon_loss_fn(x_hat, batch_X) #MSE between reconstructed and original input\n",
        "        loss_class = focal_loss_fn(logits, batch_y) #Cross-Entropy Loss between predicted logits and true class\n",
        "        loss = loss_recon + beta * loss_class\n",
        "        loss.backward()\n",
        "        optimizer.step() #backward to update gradients and params\n",
        "\n",
        "        total_recon_loss += loss_recon.item()\n",
        "        total_class_loss += loss_class.item()\n",
        "\n",
        "        # Track training predictions\n",
        "        preds = torch.argmax(logits, dim=1)\n",
        "        y_true_train.extend(batch_y.cpu().numpy())\n",
        "        y_pred_train.extend(preds.cpu().numpy())\n",
        "\n",
        "    # Compute train accuracy/F1\n",
        "    train_acc = accuracy_score(y_true_train, y_pred_train)\n",
        "    train_f1 = f1_score(y_true_train, y_pred_train, average='macro')\n",
        "\n",
        "    # Validation\n",
        "    ae.eval()\n",
        "    clf.eval()\n",
        "    y_true_val = []\n",
        "    y_pred_val = []\n",
        "\n",
        "    with torch.no_grad():\n",
        "        for val_batch_X, val_batch_y in val_loader:\n",
        "            val_batch_X = val_batch_X.to(device)\n",
        "            z_val = ae.encoder(val_batch_X)\n",
        "            logits_val = clf(z_val)\n",
        "            preds_val = torch.argmax(logits_val, dim=1)\n",
        "\n",
        "            y_true_val.extend(val_batch_y.numpy())\n",
        "            y_pred_val.extend(preds_val.cpu().numpy())\n",
        "\n",
        "    val_acc = accuracy_score(y_true_val, y_pred_val)\n",
        "    val_f1 = f1_score(y_true_val, y_pred_val, average='macro')\n",
        "\n",
        "    train_acc_list.append(train_acc)\n",
        "    val_acc_list.append(val_acc)\n",
        "    train_f1_list.append(train_f1)\n",
        "    val_f1_list.append(val_f1)\n",
        "\n",
        "    print(f\"Epoch {epoch+1} | Recon Loss: {total_recon_loss:.4f} | Class Loss: {total_class_loss:.4f} \"\n",
        "          f\"| Train Acc: {train_acc:.4f} | Train F1: {train_f1:.4f} \"\n",
        "          f\"| Val Acc: {val_acc:.4f} | Val F1: {val_f1:.4f}\")"
      ],
      "metadata": {
        "colab": {
          "base_uri": "https://localhost:8080/"
        },
        "id": "Rpp6mQ58sdMw",
        "outputId": "8f96669f-dc51-4555-807e-b8c44052594a"
      },
      "execution_count": 74,
      "outputs": [
        {
          "output_type": "stream",
          "name": "stdout",
          "text": [
            "Epoch 1 | Recon Loss: 4139045.5849 | Class Loss: 659.9639 | Train Acc: 0.7357 | Train F1: 0.3890 | Val Acc: 0.8540 | Val F1: 0.5713\n",
            "Epoch 2 | Recon Loss: 135425.2883 | Class Loss: 371.9529 | Train Acc: 0.8104 | Train F1: 0.5530 | Val Acc: 0.8764 | Val F1: 0.6293\n",
            "Epoch 3 | Recon Loss: 94802.6951 | Class Loss: 346.6366 | Train Acc: 0.8260 | Train F1: 0.5804 | Val Acc: 0.8642 | Val F1: 0.6186\n",
            "Epoch 4 | Recon Loss: 72334.5288 | Class Loss: 331.4184 | Train Acc: 0.8320 | Train F1: 0.5923 | Val Acc: 0.8660 | Val F1: 0.6061\n",
            "Epoch 5 | Recon Loss: 60038.0259 | Class Loss: 323.1801 | Train Acc: 0.8369 | Train F1: 0.6000 | Val Acc: 0.8637 | Val F1: 0.6324\n",
            "Epoch 6 | Recon Loss: 45334.5423 | Class Loss: 319.4172 | Train Acc: 0.8390 | Train F1: 0.6043 | Val Acc: 0.8594 | Val F1: 0.6290\n",
            "Epoch 7 | Recon Loss: 38355.6845 | Class Loss: 313.5415 | Train Acc: 0.8410 | Train F1: 0.6072 | Val Acc: 0.8622 | Val F1: 0.6289\n",
            "Epoch 8 | Recon Loss: 31853.0357 | Class Loss: 311.5675 | Train Acc: 0.8417 | Train F1: 0.6080 | Val Acc: 0.8502 | Val F1: 0.6208\n",
            "Epoch 9 | Recon Loss: 29054.7792 | Class Loss: 308.1452 | Train Acc: 0.8442 | Train F1: 0.6124 | Val Acc: 0.8723 | Val F1: 0.6356\n",
            "Epoch 10 | Recon Loss: 25278.3238 | Class Loss: 305.7177 | Train Acc: 0.8448 | Train F1: 0.6143 | Val Acc: 0.8808 | Val F1: 0.6330\n",
            "Epoch 11 | Recon Loss: 21304.6158 | Class Loss: 303.5074 | Train Acc: 0.8462 | Train F1: 0.6168 | Val Acc: 0.8630 | Val F1: 0.6281\n",
            "Epoch 12 | Recon Loss: 18815.7628 | Class Loss: 302.5022 | Train Acc: 0.8466 | Train F1: 0.6176 | Val Acc: 0.8657 | Val F1: 0.6279\n",
            "Epoch 13 | Recon Loss: 16882.8720 | Class Loss: 301.4460 | Train Acc: 0.8474 | Train F1: 0.6168 | Val Acc: 0.8751 | Val F1: 0.6316\n",
            "Epoch 14 | Recon Loss: 15908.5357 | Class Loss: 301.1152 | Train Acc: 0.8468 | Train F1: 0.6172 | Val Acc: 0.8622 | Val F1: 0.5997\n",
            "Epoch 15 | Recon Loss: 14993.7938 | Class Loss: 299.0134 | Train Acc: 0.8482 | Train F1: 0.6193 | Val Acc: 0.8741 | Val F1: 0.6381\n",
            "Epoch 16 | Recon Loss: 14051.6388 | Class Loss: 297.7089 | Train Acc: 0.8488 | Train F1: 0.6207 | Val Acc: 0.8767 | Val F1: 0.6371\n",
            "Epoch 17 | Recon Loss: 13135.0742 | Class Loss: 296.2018 | Train Acc: 0.8503 | Train F1: 0.6218 | Val Acc: 0.8806 | Val F1: 0.6419\n",
            "Epoch 18 | Recon Loss: 12858.4934 | Class Loss: 295.9270 | Train Acc: 0.8497 | Train F1: 0.6223 | Val Acc: 0.8672 | Val F1: 0.6280\n",
            "Epoch 19 | Recon Loss: 11786.3504 | Class Loss: 293.8217 | Train Acc: 0.8505 | Train F1: 0.6232 | Val Acc: 0.8832 | Val F1: 0.6367\n",
            "Epoch 20 | Recon Loss: 10590.9964 | Class Loss: 292.7824 | Train Acc: 0.8509 | Train F1: 0.6226 | Val Acc: 0.8669 | Val F1: 0.6271\n",
            "Epoch 21 | Recon Loss: 10505.9424 | Class Loss: 292.2964 | Train Acc: 0.8508 | Train F1: 0.6256 | Val Acc: 0.8812 | Val F1: 0.6344\n",
            "Epoch 22 | Recon Loss: 10603.2702 | Class Loss: 290.2672 | Train Acc: 0.8512 | Train F1: 0.6246 | Val Acc: 0.8840 | Val F1: 0.6420\n",
            "Epoch 23 | Recon Loss: 10139.6828 | Class Loss: 291.8791 | Train Acc: 0.8519 | Train F1: 0.6266 | Val Acc: 0.8843 | Val F1: 0.6444\n",
            "Epoch 24 | Recon Loss: 9674.9272 | Class Loss: 290.0217 | Train Acc: 0.8518 | Train F1: 0.6258 | Val Acc: 0.8780 | Val F1: 0.6327\n",
            "Epoch 25 | Recon Loss: 9726.1845 | Class Loss: 289.6630 | Train Acc: 0.8520 | Train F1: 0.6258 | Val Acc: 0.8748 | Val F1: 0.6184\n",
            "Epoch 26 | Recon Loss: 9623.1054 | Class Loss: 288.1220 | Train Acc: 0.8521 | Train F1: 0.6262 | Val Acc: 0.8797 | Val F1: 0.6386\n",
            "Epoch 27 | Recon Loss: 9980.8955 | Class Loss: 287.8224 | Train Acc: 0.8526 | Train F1: 0.6279 | Val Acc: 0.8728 | Val F1: 0.6380\n",
            "Epoch 28 | Recon Loss: 8479.5393 | Class Loss: 288.5268 | Train Acc: 0.8524 | Train F1: 0.6272 | Val Acc: 0.8755 | Val F1: 0.6296\n",
            "Epoch 29 | Recon Loss: 9142.4268 | Class Loss: 285.8303 | Train Acc: 0.8538 | Train F1: 0.6295 | Val Acc: 0.8734 | Val F1: 0.6262\n",
            "Epoch 30 | Recon Loss: 8374.4742 | Class Loss: 286.4527 | Train Acc: 0.8539 | Train F1: 0.6291 | Val Acc: 0.8733 | Val F1: 0.6307\n"
          ]
        }
      ]
    },
    {
      "cell_type": "code",
      "source": [
        "import matplotlib.pyplot as plt\n",
        "\n",
        "epochs = range(1, len(train_acc_list) + 1)\n",
        "\n",
        "plt.figure(figsize=(14, 5))\n",
        "\n",
        "plt.subplot(1, 2, 1)\n",
        "plt.plot(epochs, train_acc_list, label='Train Acc')\n",
        "plt.plot(epochs, val_acc_list, label='Val Acc')\n",
        "plt.title(\"Accuracy by Epoch\")\n",
        "plt.xlabel(\"Epoch\")\n",
        "plt.ylabel(\"Accuracy\")\n",
        "plt.legend()\n",
        "\n",
        "plt.subplot(1, 2, 2)\n",
        "plt.plot(epochs, train_f1_list, label='Train F1')\n",
        "plt.plot(epochs, val_f1_list, label='Val F1')\n",
        "plt.title(\"Macro F1 Score by Epoch\")\n",
        "plt.xlabel(\"Epoch\")\n",
        "plt.ylabel(\"Macro F1\")\n",
        "plt.legend()\n",
        "\n",
        "plt.tight_layout()\n",
        "plt.show()"
      ],
      "metadata": {
        "colab": {
          "base_uri": "https://localhost:8080/",
          "height": 398
        },
        "id": "E8ywssrL23OK",
        "outputId": "b77ddb20-c948-4cf0-dd72-c141230b50df"
      },
      "execution_count": 75,
      "outputs": [
        {
          "output_type": "display_data",
          "data": {
            "text/plain": [
              "<Figure size 1400x500 with 2 Axes>"
            ],
            "image/png": "[encoded data removed]"
          },
          "metadata": {}
        }
      ]
    }
  ]
}