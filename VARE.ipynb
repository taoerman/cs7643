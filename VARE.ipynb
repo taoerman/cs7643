{
  "cells": [
    {
      "cell_type": "code",
      "execution_count": 1,
      "id": "f621be3c-6850-458f-8471-507e745e9c5e",
      "metadata": {
        "id": "f621be3c-6850-458f-8471-507e745e9c5e"
      },
      "outputs": [],
      "source": [
        "import numpy as np\n",
        "import torch\n",
        "from torch import nn\n",
        "from torch.nn import functional as F\n",
        "from torch.utils.data import TensorDataset, DataLoader\n",
        "from sklearn.metrics import f1_score"
      ]
    },
    {
      "cell_type": "code",
      "execution_count": 2,
      "id": "7a2b7877-a04e-4c24-b7f7-583f26a23064",
      "metadata": {
        "id": "7a2b7877-a04e-4c24-b7f7-583f26a23064"
      },
      "outputs": [],
      "source": [
        "# train = np.load(\"./dataset/train_split.npy\", allow_pickle=True).item()\n",
        "# val = np.load(\"./dataset/val_split.npy\", allow_pickle=True).item()\n",
        "# test = np.load(\"./dataset/test-release.npy\", allow_pickle=True).item()"
      ]
    },
    {
      "cell_type": "code",
      "source": [
        "train = np.load(\"train_split.npy\", allow_pickle=True).item()\n",
        "val = np.load(\"val_split.npy\", allow_pickle=True).item()\n",
        "test = np.load(\"test-release.npy\", allow_pickle=True).item()"
      ],
      "metadata": {
        "id": "QHgGoUzTsjHG"
      },
      "id": "QHgGoUzTsjHG",
      "execution_count": 3,
      "outputs": []
    },
    {
      "cell_type": "code",
      "execution_count": 4,
      "id": "416beb0d-87af-4836-90b1-a0fcf2ee54c4",
      "metadata": {
        "id": "416beb0d-87af-4836-90b1-a0fcf2ee54c4",
        "outputId": "ccb56f4e-5997-4849-c4eb-5cb3f46a6c6c",
        "colab": {
          "base_uri": "https://localhost:8080/"
        }
      },
      "outputs": [
        {
          "output_type": "execute_result",
          "data": {
            "text/plain": [
              "(torch.Size([426635, 28]), torch.Size([426635]))"
            ]
          },
          "metadata": {},
          "execution_count": 4
        }
      ],
      "source": [
        "labeled_x = np.concatenate([seq[\"keypoints\"] for seq in train[\"sequences\"].values()], axis=0)\n",
        "labeled_x = torch.tensor(labeled_x).reshape(-1, 28)\n",
        "y = np.concatenate([seq[\"annotations\"] for seq in train[\"sequences\"].values()], axis=0)\n",
        "y = torch.tensor(y)\n",
        "# (total_frames of all vedio, 28 features); (total_frames,)\n",
        "labeled_x.shape, y.shape"
      ]
    },
    {
      "cell_type": "code",
      "execution_count": 5,
      "id": "e997eebc-f55d-4b88-ade6-7319e905e029",
      "metadata": {
        "id": "e997eebc-f55d-4b88-ade6-7319e905e029",
        "outputId": "823f5f39-354e-4b6a-a962-231a6bb7f571",
        "colab": {
          "base_uri": "https://localhost:8080/"
        }
      },
      "outputs": [
        {
          "output_type": "execute_result",
          "data": {
            "text/plain": [
              "torch.Size([8168491, 28])"
            ]
          },
          "metadata": {},
          "execution_count": 5
        }
      ],
      "source": [
        "unlabeled_x = np.concatenate([seq[\"keypoints\"] for seq in test[\"sequences\"].values()], axis=0)\n",
        "unlabeled_x = torch.tensor(unlabeled_x).reshape(-1, 28)\n",
        "unlabeled_x.shape"
      ]
    },
    {
      "cell_type": "code",
      "execution_count": 6,
      "id": "15a20e52-9e88-4af3-a306-0d8f37d2587b",
      "metadata": {
        "id": "15a20e52-9e88-4af3-a306-0d8f37d2587b",
        "outputId": "50ca93d1-9bd8-47b1-c19c-bee95d0e750f",
        "colab": {
          "base_uri": "https://localhost:8080/"
        }
      },
      "outputs": [
        {
          "output_type": "execute_result",
          "data": {
            "text/plain": [
              "torch.Size([8168491, 28])"
            ]
          },
          "metadata": {},
          "execution_count": 6
        }
      ],
      "source": [
        "# normalize each feature in train+test set.\n",
        "std, mean = torch.std_mean(torch.cat((labeled_x, unlabeled_x), dim=0), dim=0)\n",
        "labeled_x = (labeled_x - mean) / std\n",
        "unlabeled_x = (unlabeled_x - mean) / std\n",
        "unlabeled_x.shape"
      ]
    },
    {
      "cell_type": "code",
      "execution_count": 7,
      "id": "07440027-91e1-4dda-9c45-d9b66819cd0d",
      "metadata": {
        "id": "07440027-91e1-4dda-9c45-d9b66819cd0d",
        "outputId": "8dc5b74b-9361-4368-c7f5-20c3189f7f66",
        "colab": {
          "base_uri": "https://localhost:8080/"
        }
      },
      "outputs": [
        {
          "output_type": "execute_result",
          "data": {
            "text/plain": [
              "(torch.Size([81103, 28]), torch.Size([81103]))"
            ]
          },
          "metadata": {},
          "execution_count": 7
        }
      ],
      "source": [
        "# normalize each feature in validation set.\n",
        "val_x = np.concatenate([seq[\"keypoints\"] for seq in val[\"sequences\"].values()], axis=0)\n",
        "val_x = torch.tensor(val_x).reshape(-1, 28)\n",
        "val_x = (val_x - mean) / std\n",
        "val_y = np.concatenate([seq[\"annotations\"] for seq in val[\"sequences\"].values()], axis=0)\n",
        "val_y = torch.tensor(val_y)\n",
        "val_x.shape, val_y.shape"
      ]
    },
    {
      "cell_type": "code",
      "execution_count": 8,
      "id": "b52e8a8c-4abb-4967-95d1-1f2bf4a10cb4",
      "metadata": {
        "id": "b52e8a8c-4abb-4967-95d1-1f2bf4a10cb4"
      },
      "outputs": [],
      "source": [
        "def gaussian_parameters(h, dim=-1):\n",
        "    m, h = torch.split(h, h.size(dim) // 2, dim=dim)\n",
        "    v = F.softplus(h) + 1e-8\n",
        "    return m, v\n",
        "\n",
        "def sample_gaussian(m, v):\n",
        "    unit_sample = torch.normal(torch.zeros(m.shape), torch.ones(v.shape)).to(device)\n",
        "    z = m + torch.sqrt(v) * unit_sample\n",
        "    return z\n",
        "\n",
        "def kl_cat(q, log_q, log_p):\n",
        "    element_wise = (q * (log_q - log_p))\n",
        "    kl = element_wise.sum(-1)\n",
        "    return kl\n",
        "\n",
        "def kl_normal(qm, qv, pm, pv):\n",
        "    element_wise = 0.5 * (torch.log(pv) - torch.log(qv) + qv / pv + (qm - pm).pow(2) / pv - 1)\n",
        "    kl = element_wise.sum(-1)\n",
        "    return kl\n",
        "\n",
        "def log_normal(x, m, v):\n",
        "    log_prob = -0.5 * torch.log(2 * np.pi * v) - (x - m) ** 2 / (2 * v)\n",
        "    log_prob = log_prob.sum(-1)\n",
        "    return log_prob\n",
        "\n",
        "def duplicate(x, rep):\n",
        "    return x.expand(rep, *x.shape).reshape(-1, *x.shape[1:])"
      ]
    },
    {
      "cell_type": "code",
      "execution_count": 9,
      "id": "193d17e1-1bd2-465b-b30c-621675a5adcf",
      "metadata": {
        "id": "193d17e1-1bd2-465b-b30c-621675a5adcf"
      },
      "outputs": [],
      "source": [
        "class Encoder(nn.Module):\n",
        "    def __init__(self, z_dim, y_dim):\n",
        "        super().__init__()\n",
        "        self.z_dim = z_dim\n",
        "        self.y_dim = y_dim\n",
        "        self.net = nn.Sequential(\n",
        "            nn.Linear(28 + y_dim, 64),\n",
        "            nn.ELU(),\n",
        "            nn.Linear(64, 2 * z_dim),\n",
        "        )\n",
        "\n",
        "    # x: (batch_size, 28)\n",
        "    # y: (batch_size, y_dim)\n",
        "    def encode(self, x, y):\n",
        "        xy = torch.cat((x, y), dim=1) # (batch_size, 28 + y_dim)\n",
        "        h = self.net(xy) # (batch_size, 2 * z_dim)\n",
        "        m, v = gaussian_parameters(h, dim=1)\n",
        "        # m is the first two columns, v is the softplus of the last two columns.\n",
        "        return m, v\n",
        "\n",
        "class Decoder(nn.Module):\n",
        "    def __init__(self, z_dim, y_dim):\n",
        "        super().__init__()\n",
        "        self.z_dim = z_dim\n",
        "        self.y_dim = y_dim\n",
        "        self.net = nn.Sequential(\n",
        "            nn.Linear(z_dim + y_dim, 64),\n",
        "            nn.ELU(),\n",
        "            nn.Linear(64, 28)\n",
        "        )\n",
        "\n",
        "    def decode(self, z, y):\n",
        "        zy = torch.cat((z, y), dim=1) # (batch_size, 28 + y_dim)\n",
        "        return self.net(zy) # (batch_size, 28)\n",
        "\n",
        "class Classifier(nn.Module):\n",
        "    def __init__(self, y_dim):\n",
        "        super().__init__()\n",
        "        self.y_dim = y_dim\n",
        "        self.net = nn.Sequential(\n",
        "            nn.Linear(28, 128),\n",
        "            nn.ReLU(),\n",
        "            nn.Linear(128, 64),\n",
        "            nn.ReLU(),\n",
        "            nn.Linear(64, y_dim)\n",
        "        )\n",
        "\n",
        "    def classify(self, x):\n",
        "        return self.net(x)"
      ]
    },
    {
      "cell_type": "code",
      "execution_count": 10,
      "id": "19b6530f-2f33-48ce-9da8-439b88b4bdce",
      "metadata": {
        "id": "19b6530f-2f33-48ce-9da8-439b88b4bdce"
      },
      "outputs": [],
      "source": [
        "# For x_unlableled, it performs the following steps:\n",
        "# 1. predict y for Xu\n",
        "# 2. combine xu with each y\n",
        "# 3. Input the combinations to Encoder and get z\n",
        "# 4. Input y and z to decoder to reconstruct x.\n",
        "# 5. Calculates the loss.\n",
        "class SSVAE(nn.Module):\n",
        "    def __init__(self, gen_weight=1, class_weight=100):\n",
        "        super().__init__()\n",
        "        self.z_dim = 16 # latent dimension size\n",
        "        self.y_dim = 4  # number of classes\n",
        "        self.gen_weight = gen_weight\n",
        "        self.class_weight = class_weight\n",
        "        self.enc = Encoder(self.z_dim, self.y_dim)\n",
        "        self.dec = Decoder(self.z_dim, self.y_dim)\n",
        "        self.cls = Classifier(self.y_dim)\n",
        "\n",
        "        # Set prior as fixed parameter attached to Module\n",
        "        self.z_prior_m = torch.nn.Parameter(torch.zeros(1), requires_grad=False)\n",
        "        self.z_prior_v = torch.nn.Parameter(torch.ones(1), requires_grad=False)\n",
        "\n",
        "    def negative_elbo_bound(self, x):\n",
        "        # Predict y from x.\n",
        "        y_logits = self.cls.classify(x)\n",
        "        y_logprob = F.log_softmax(y_logits, dim=1)\n",
        "        y_prob = torch.softmax(y_logprob, dim=1) # (batch, y_dim)\n",
        "\n",
        "        # Duplicate y based on x's batch size. Then duplicate x\n",
        "        # This enumerates all possible combination of x with labels (0, 1, 2, 3)\n",
        "        # x1 [1,0,0,0]\n",
        "        # x1 [0,1,0,0]\n",
        "        # x1 [0,0,1,0]\n",
        "        # x1 [0,0,0,1]\n",
        "        # x2 [1,0,0,0]\n",
        "        #...\n",
        "        # x2 [0,0,0,1]\n",
        "        y = np.repeat(np.arange(self.y_dim), x.size(0)) # (bacth x y_dim,)\n",
        "        y = x.new(np.eye(self.y_dim)[y])\n",
        "        x = duplicate(x, self.y_dim)\n",
        "\n",
        "        # q(z|x,y) to construct latent vector.\n",
        "        z_m, z_v = self.enc.encode(x, y)\n",
        "        z = sample_gaussian(z_m, z_v)\n",
        "\n",
        "        # q(x|y,z) to reconstruct x.\n",
        "        x_m = self.dec.decode(z, y)\n",
        "        x_v = torch.tensor(0.1).repeat(x_m.shape).to(device)\n",
        "\n",
        "        # How difference the distribution between classifier and uniform distribution of lables.\n",
        "        kl_y = kl_cat(y_prob, y_logprob, np.log(1.0 / self.y_dim))\n",
        "        # How difference the distribution between the encoder's latent distribution from z_prior (Gaussian distribution)\n",
        "        kl_z = kl_normal(z_m, z_v, self.z_prior_m, self.z_prior_v)\n",
        "        kl_z = (kl_z.reshape(self.y_dim, -1) * y_prob.t()).sum(dim=0)\n",
        "        # how well the decoder can reconstruct the X.\n",
        "        rec = -log_normal(x, x_m, x_v)\n",
        "        rec = (rec.reshape(self.y_dim, -1) * y_prob.t()).sum(dim=0)\n",
        "        # overall unsupervised loss.\n",
        "        nelbo = kl_y + kl_z + rec\n",
        "\n",
        "        nelbo, kl_z, kl_y, rec = nelbo.mean(), kl_z.mean(), kl_y.mean(), rec.mean()\n",
        "        return nelbo, kl_z, kl_y, rec\n",
        "\n",
        "    # Standard loss for labeled data.\n",
        "    def classification_cross_entropy(self, x, y):\n",
        "        y_logits = self.cls.classify(x)\n",
        "        return F.cross_entropy(y_logits, y.argmax(1))\n",
        "\n",
        "\n",
        "    # Computes total loss of labled and unlabeled data.\n",
        "    def loss(self, x, xl, yl):\n",
        "        if self.gen_weight > 0:\n",
        "            nelbo, kl_z, kl_y, rec = self.negative_elbo_bound(x)\n",
        "        # Skips semi-supervised loss.\n",
        "        else:\n",
        "            nelbo, kl_z, kl_y, rec = [0] * 4\n",
        "        ce = self.classification_cross_entropy(xl, yl)\n",
        "        loss = self.gen_weight * nelbo + self.class_weight * ce\n",
        "\n",
        "        summaries = dict((\n",
        "            ('train/loss', loss),\n",
        "            ('class/ce', ce),\n",
        "            ('gen/elbo', -nelbo),\n",
        "            ('gen/kl_z', kl_z),\n",
        "            ('gen/kl_y', kl_y),\n",
        "            ('gen/rec', rec),\n",
        "        ))\n",
        "\n",
        "        return loss, summaries\n",
        "\n",
        "\n",
        "    def compute_sigmoid_given(self, z, y):\n",
        "        # logits represent the reconstruction of X.\n",
        "        logits = self.dec.decode(z, y) #(batch_size, 28)\n",
        "        # What is the possibility of feature #n is on.\n",
        "        return torch.sigmoid(logits)\n",
        "\n",
        "    # ?????? self.z_prior = [self.z_prior_m, self.z_prior_v]\n",
        "    def sample_z(self, batch):\n",
        "       # ????? remove ut?\n",
        "       # samples z conforms to Gaussian(0,1)\n",
        "        return ut.sample_gaussian(self.z_prior[0].expand(batch, self.z_dim),\n",
        "                                  self.z_prior[1].expand(batch, self.z_dim))\n",
        "\n",
        "    def sample_x_given(self, z, y):\n",
        "        return torch.bernoulli(self.compute_sigmoid_given(z, y))\n"
      ]
    },
    {
      "cell_type": "code",
      "execution_count": 11,
      "id": "b7841568-f5ca-414b-95f9-e8075f7c10d4",
      "metadata": {
        "id": "b7841568-f5ca-414b-95f9-e8075f7c10d4"
      },
      "outputs": [],
      "source": [
        "epochs = 30\n",
        "device = \"cuda\"\n",
        "labeled_batch_size = 64\n",
        "unlabeled_batch_size = 320\n",
        "learning_rate = 1e-3\n",
        "seed = 1"
      ]
    },
    {
      "cell_type": "code",
      "execution_count": 12,
      "id": "9a39aff5-6794-4531-9c47-a3b3b044e749",
      "metadata": {
        "id": "9a39aff5-6794-4531-9c47-a3b3b044e749"
      },
      "outputs": [],
      "source": [
        "torch.manual_seed(seed);\n",
        "labeled_dataset = TensorDataset(labeled_x, y)\n",
        "unlabeled_dataset = TensorDataset(unlabeled_x)\n",
        "labeled_loader = DataLoader(labeled_dataset, batch_size=labeled_batch_size, shuffle=True)"
      ]
    },
    {
      "cell_type": "code",
      "execution_count": 13,
      "id": "a58eebe8-3181-495c-86de-528653ae64e4",
      "metadata": {
        "id": "a58eebe8-3181-495c-86de-528653ae64e4"
      },
      "outputs": [],
      "source": [
        "model = SSVAE(gen_weight=0).to(device)\n",
        "optimizer = torch.optim.Adam(model.parameters(), lr=learning_rate)"
      ]
    },
    {
      "cell_type": "code",
      "execution_count": 14,
      "id": "a138b10a-a9c3-4b86-bbc4-01f920ff008a",
      "metadata": {
        "scrolled": true,
        "id": "a138b10a-a9c3-4b86-bbc4-01f920ff008a",
        "outputId": "e01b76c6-1196-49f1-cd48-9410cc1159f8",
        "colab": {
          "base_uri": "https://localhost:8080/",
          "height": 426
        }
      },
      "outputs": [
        {
          "output_type": "stream",
          "name": "stdout",
          "text": [
            "Train_loss=138.1751\n",
            "Train_loss=40.2583\n"
          ]
        },
        {
          "output_type": "error",
          "ename": "KeyboardInterrupt",
          "evalue": "",
          "traceback": [
            "\u001b[0;31m---------------------------------------------------------------------------\u001b[0m",
            "\u001b[0;31mKeyboardInterrupt\u001b[0m                         Traceback (most recent call last)",
            "\u001b[0;32m/tmp/ipython-input-14-870478686.py\u001b[0m in \u001b[0;36m<cell line: 0>\u001b[0;34m()\u001b[0m\n\u001b[1;32m     13\u001b[0m         \u001b[0mloss\u001b[0m\u001b[0;34m,\u001b[0m \u001b[0msummaries\u001b[0m \u001b[0;34m=\u001b[0m \u001b[0mmodel\u001b[0m\u001b[0;34m.\u001b[0m\u001b[0mloss\u001b[0m\u001b[0;34m(\u001b[0m\u001b[0mxu\u001b[0m\u001b[0;34m,\u001b[0m \u001b[0mxl\u001b[0m\u001b[0;34m,\u001b[0m \u001b[0myl\u001b[0m\u001b[0;34m)\u001b[0m\u001b[0;34m\u001b[0m\u001b[0;34m\u001b[0m\u001b[0m\n\u001b[1;32m     14\u001b[0m \u001b[0;34m\u001b[0m\u001b[0m\n\u001b[0;32m---> 15\u001b[0;31m         \u001b[0mloss\u001b[0m\u001b[0;34m.\u001b[0m\u001b[0mbackward\u001b[0m\u001b[0;34m(\u001b[0m\u001b[0;34m)\u001b[0m\u001b[0;34m\u001b[0m\u001b[0;34m\u001b[0m\u001b[0m\n\u001b[0m\u001b[1;32m     16\u001b[0m         \u001b[0moptimizer\u001b[0m\u001b[0;34m.\u001b[0m\u001b[0mstep\u001b[0m\u001b[0;34m(\u001b[0m\u001b[0;34m)\u001b[0m\u001b[0;34m\u001b[0m\u001b[0;34m\u001b[0m\u001b[0m\n\u001b[1;32m     17\u001b[0m \u001b[0;34m\u001b[0m\u001b[0m\n",
            "\u001b[0;32m/usr/local/lib/python3.11/dist-packages/torch/_tensor.py\u001b[0m in \u001b[0;36mbackward\u001b[0;34m(self, gradient, retain_graph, create_graph, inputs)\u001b[0m\n\u001b[1;32m    624\u001b[0m                 \u001b[0minputs\u001b[0m\u001b[0;34m=\u001b[0m\u001b[0minputs\u001b[0m\u001b[0;34m,\u001b[0m\u001b[0;34m\u001b[0m\u001b[0;34m\u001b[0m\u001b[0m\n\u001b[1;32m    625\u001b[0m             )\n\u001b[0;32m--> 626\u001b[0;31m         torch.autograd.backward(\n\u001b[0m\u001b[1;32m    627\u001b[0m             \u001b[0mself\u001b[0m\u001b[0;34m,\u001b[0m \u001b[0mgradient\u001b[0m\u001b[0;34m,\u001b[0m \u001b[0mretain_graph\u001b[0m\u001b[0;34m,\u001b[0m \u001b[0mcreate_graph\u001b[0m\u001b[0;34m,\u001b[0m \u001b[0minputs\u001b[0m\u001b[0;34m=\u001b[0m\u001b[0minputs\u001b[0m\u001b[0;34m\u001b[0m\u001b[0;34m\u001b[0m\u001b[0m\n\u001b[1;32m    628\u001b[0m         )\n",
            "\u001b[0;32m/usr/local/lib/python3.11/dist-packages/torch/autograd/__init__.py\u001b[0m in \u001b[0;36mbackward\u001b[0;34m(tensors, grad_tensors, retain_graph, create_graph, grad_variables, inputs)\u001b[0m\n\u001b[1;32m    345\u001b[0m     \u001b[0;31m# some Python versions print out the first line of a multi-line function\u001b[0m\u001b[0;34m\u001b[0m\u001b[0;34m\u001b[0m\u001b[0m\n\u001b[1;32m    346\u001b[0m     \u001b[0;31m# calls in the traceback and some print out the last line\u001b[0m\u001b[0;34m\u001b[0m\u001b[0;34m\u001b[0m\u001b[0m\n\u001b[0;32m--> 347\u001b[0;31m     _engine_run_backward(\n\u001b[0m\u001b[1;32m    348\u001b[0m         \u001b[0mtensors\u001b[0m\u001b[0;34m,\u001b[0m\u001b[0;34m\u001b[0m\u001b[0;34m\u001b[0m\u001b[0m\n\u001b[1;32m    349\u001b[0m         \u001b[0mgrad_tensors_\u001b[0m\u001b[0;34m,\u001b[0m\u001b[0;34m\u001b[0m\u001b[0;34m\u001b[0m\u001b[0m\n",
            "\u001b[0;32m/usr/local/lib/python3.11/dist-packages/torch/autograd/graph.py\u001b[0m in \u001b[0;36m_engine_run_backward\u001b[0;34m(t_outputs, *args, **kwargs)\u001b[0m\n\u001b[1;32m    821\u001b[0m         \u001b[0munregister_hooks\u001b[0m \u001b[0;34m=\u001b[0m \u001b[0m_register_logging_hooks_on_whole_graph\u001b[0m\u001b[0;34m(\u001b[0m\u001b[0mt_outputs\u001b[0m\u001b[0;34m)\u001b[0m\u001b[0;34m\u001b[0m\u001b[0;34m\u001b[0m\u001b[0m\n\u001b[1;32m    822\u001b[0m     \u001b[0;32mtry\u001b[0m\u001b[0;34m:\u001b[0m\u001b[0;34m\u001b[0m\u001b[0;34m\u001b[0m\u001b[0m\n\u001b[0;32m--> 823\u001b[0;31m         return Variable._execution_engine.run_backward(  # Calls into the C++ engine to run the backward pass\n\u001b[0m\u001b[1;32m    824\u001b[0m             \u001b[0mt_outputs\u001b[0m\u001b[0;34m,\u001b[0m \u001b[0;34m*\u001b[0m\u001b[0margs\u001b[0m\u001b[0;34m,\u001b[0m \u001b[0;34m**\u001b[0m\u001b[0mkwargs\u001b[0m\u001b[0;34m\u001b[0m\u001b[0;34m\u001b[0m\u001b[0m\n\u001b[1;32m    825\u001b[0m         )  # Calls into the C++ engine to run the backward pass\n",
            "\u001b[0;31mKeyboardInterrupt\u001b[0m: "
          ]
        }
      ],
      "source": [
        "for epoch in range(epochs):\n",
        "    total_loss = 0\n",
        "    total_count = 0\n",
        "    for i, (xl, yl) in enumerate(labeled_loader):\n",
        "        optimizer.zero_grad()\n",
        "\n",
        "        unlabeled_indices = torch.randint(0, len(unlabeled_dataset), (unlabeled_batch_size,))\n",
        "        xu = unlabeled_dataset[unlabeled_indices][0]\n",
        "\n",
        "        xu = xu.to(device).float()\n",
        "        yl = yl.new(np.eye(4)[yl]).to(device).float()\n",
        "        xl = xl.to(device).float()\n",
        "        loss, summaries = model.loss(xu, xl, yl)\n",
        "\n",
        "        loss.backward()\n",
        "        optimizer.step()\n",
        "\n",
        "        total_loss += loss.detach().item() * len(xl)\n",
        "        total_count += len(xl)\n",
        "\n",
        "        if i % 3000 == 0:\n",
        "            print(f\"Train_loss={total_loss / total_count:.4f}\")\n",
        "\n",
        "    train_pred = model.cls.classify(labeled_x.to(device).float()).argmax(1)\n",
        "    train_f1 = f1_score(y, train_pred.cpu(), average=\"macro\", labels=[0, 1, 2])\n",
        "    val_pred = model.cls.classify(val_x.to(device).float()).argmax(1)\n",
        "    val_f1 = f1_score(val_y, val_pred.cpu(), average=\"macro\", labels=[0, 1, 2])\n",
        "\n",
        "    print(f\"Epoch {epoch}, Train-F1={train_f1:.4f}, Val-F1={val_f1:.4f}\")"
      ]
    },
    {
      "cell_type": "code",
      "execution_count": null,
      "id": "f8440e6f-1165-4c8f-a848-9e023a535134",
      "metadata": {
        "id": "f8440e6f-1165-4c8f-a848-9e023a535134"
      },
      "outputs": [],
      "source": [
        "model = SSVAE().to(device)\n",
        "optimizer = torch.optim.Adam(model.parameters(), lr=learning_rate)"
      ]
    },
    {
      "cell_type": "code",
      "execution_count": null,
      "id": "6402128e-015a-484f-a6ec-17a867190b6b",
      "metadata": {
        "scrolled": true,
        "id": "6402128e-015a-484f-a6ec-17a867190b6b"
      },
      "outputs": [],
      "source": [
        "for epoch in range(epochs):\n",
        "    total_loss = 0\n",
        "    total_count = 0\n",
        "    for i, (xl, yl) in enumerate(labeled_loader):\n",
        "        optimizer.zero_grad()\n",
        "\n",
        "        unlabeled_indices = torch.randint(0, len(unlabeled_dataset), (unlabeled_batch_size,))\n",
        "        xu = unlabeled_dataset[unlabeled_indices][0]\n",
        "\n",
        "        xu = xu.to(device).float()\n",
        "        yl = yl.new(np.eye(4)[yl]).to(device).float()\n",
        "        xl = xl.to(device).float()\n",
        "        loss, summaries = model.loss(xu, xl, yl)\n",
        "\n",
        "        loss.backward()\n",
        "        optimizer.step()\n",
        "\n",
        "        total_loss += loss.detach().item() * len(xl)\n",
        "        total_count += len(xl)\n",
        "\n",
        "        if i % 3000 == 0:\n",
        "            print(f\"Train_loss={total_loss / total_count:.4f}\")\n",
        "\n",
        "    train_pred = model.cls.classify(labeled_x.to(device).float()).argmax(1)\n",
        "    train_f1 = f1_score(y, train_pred.cpu(), average=\"macro\", labels=[0, 1, 2])\n",
        "    val_pred = model.cls.classify(val_x.to(device).float()).argmax(1)\n",
        "    val_f1 = f1_score(val_y, val_pred.cpu(), average=\"macro\", labels=[0, 1, 2])\n",
        "\n",
        "    print(f\"Epoch {epoch}, Train-F1={train_f1:.4f}, Val-F1={val_f1:.4f}\")"
      ]
    },
    {
      "cell_type": "code",
      "execution_count": null,
      "id": "f96f0dfc-e0db-4e98-b727-436d88b4111b",
      "metadata": {
        "id": "f96f0dfc-e0db-4e98-b727-436d88b4111b"
      },
      "outputs": [],
      "source": []
    }
  ],
  "metadata": {
    "kernelspec": {
      "display_name": "Python 3",
      "name": "python3"
    },
    "language_info": {
      "codemirror_mode": {
        "name": "ipython",
        "version": 3
      },
      "file_extension": ".py",
      "mimetype": "text/x-python",
      "name": "python",
      "nbconvert_exporter": "python",
      "pygments_lexer": "ipython3",
      "version": "3.13.3"
    },
    "colab": {
      "provenance": [],
      "gpuType": "T4"
    },
    "accelerator": "GPU"
  },
  "nbformat": 4,
  "nbformat_minor": 5
}